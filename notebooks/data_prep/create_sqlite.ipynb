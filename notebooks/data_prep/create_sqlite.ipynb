{
 "cells": [
  {
   "cell_type": "markdown",
   "id": "3990fe9b-2e13-459d-a835-b22c082c48bf",
   "metadata": {},
   "source": [
    "## Create metadata SQLite database"
   ]
  },
  {
   "metadata": {},
   "cell_type": "code",
   "outputs": [],
   "execution_count": null,
   "source": [
    "CSV_PATH = \"/Users/saghar/Desktop/movie-rag/datasets/rotten-tomatoes-reviews/prep/reviews_w_movies_full.csv\"\n",
    "DB_PATH = \"/Users/saghar/Desktop/movie-rag/datasets/rotten-tomatoes-reviews/prep/movies_meta.db\""
   ],
   "id": "dae4c4f5fe25b0ed"
  },
  {
   "metadata": {},
   "cell_type": "code",
   "outputs": [],
   "execution_count": 1,
   "source": "from src.data.sqlite_database import setup_database",
   "id": "db5f876fd472fc33"
  },
  {
   "cell_type": "code",
   "execution_count": 2,
   "id": "976ccaa5-1a71-411b-9c0d-a400fdc21de4",
   "metadata": {},
   "outputs": [
    {
     "name": "stdout",
     "output_type": "stream",
     "text": [
      "============================================================\n",
      "Setting up movie database\n",
      "============================================================\n",
      "Movies table created with indexes\n",
      "Loading movies from /Users/saghar/Desktop/movie-rag/datasets/rotten-tomatoes-reviews/prep/reviews_w_movies_full.csv...\n",
      "✓ Loaded 8075 movies\n",
      "\n",
      "============================================================\n",
      "Test Queries\n",
      "============================================================\n",
      "\n",
      "Total movies:\n",
      "   total\n",
      "0   8075\n",
      "\n",
      "Highest rated movies:\n",
      "                movie_title  imdb_rating\n",
      "0                    Madame         10.0\n",
      "1  The Shawshank Redemption          9.3\n",
      "2                Dead Alive          9.2\n",
      "3             The Godfather          9.2\n",
      "4                    Butter          9.1\n",
      "\n",
      "Movies by decade:\n",
      "    decade  count\n",
      "0     2020     98\n",
      "1     2010   2988\n",
      "2     2000   2792\n",
      "3     1990   1026\n",
      "4     1980    495\n",
      "5     1970    259\n",
      "6     1960    151\n",
      "7     1950    116\n",
      "8     1940     79\n",
      "9     1930     52\n",
      "10    1920     16\n",
      "11    1910      3\n",
      "\n",
      "Database ready at datasets/rotten-tomatoes-reviews/prep/movies_meta.db\n"
     ]
    }
   ],
   "source": "setup_database(db_path=DB_PATH, csv_path=CSV_PATH)"
  },
  {
   "cell_type": "code",
   "execution_count": null,
   "id": "fc21cd78-2daf-469d-9917-905942b979b6",
   "metadata": {},
   "outputs": [],
   "source": []
  }
 ],
 "metadata": {
  "kernelspec": {
   "display_name": "Python 3 (ipykernel)",
   "language": "python",
   "name": "python3"
  },
  "language_info": {
   "codemirror_mode": {
    "name": "ipython",
    "version": 3
   },
   "file_extension": ".py",
   "mimetype": "text/x-python",
   "name": "python",
   "nbconvert_exporter": "python",
   "pygments_lexer": "ipython3",
   "version": "3.12.11"
  }
 },
 "nbformat": 4,
 "nbformat_minor": 5
}
