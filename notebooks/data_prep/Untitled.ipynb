{
 "cells": [
  {
   "cell_type": "code",
   "execution_count": 1,
   "id": "dd9551c6-c90d-4808-a843-5de1a9481909",
   "metadata": {},
   "outputs": [],
   "source": [
    "import pandas as pd\n",
    "import os\n",
    "from path import Path\n",
    "import numpy as np"
   ]
  },
  {
   "cell_type": "code",
   "execution_count": 2,
   "id": "cb1cca2e-63e4-4e6c-a7e7-adfcffd2ac50",
   "metadata": {},
   "outputs": [],
   "source": [
    "reviews_df = pd.read_csv('/Users/saghar/Desktop/movie-rag/datasets/rotten-tomatoes-reviews/prep/reviews_w_movies_full.csv')\n",
    "#reviews_df = reviews_df.dropna(subset=[\"review_content\"])\n",
    "movie_id_cols = [\n",
    "                \"rotten_tomatoes_link\",\n",
    "                \"movie_title\",\n",
    "                \"release_year\",\n",
    "            ]\n",
    "#reviews_df[\"rotten_tomatoes_link\"].nunique()"
   ]
  },
  {
   "cell_type": "code",
   "execution_count": 5,
   "id": "f2c3ec82-4e71-4758-ae5c-b272d6fc7992",
   "metadata": {},
   "outputs": [],
   "source": [
    "reviews_df = reviews_df.dropna(subset=['rating_normalized'])"
   ]
  },
  {
   "cell_type": "code",
   "execution_count": 18,
   "id": "2d1eba55-ea34-4986-addf-914fe39eec59",
   "metadata": {},
   "outputs": [
    {
     "data": {
      "text/html": [
       "<div>\n",
       "<style scoped>\n",
       "    .dataframe tbody tr th:only-of-type {\n",
       "        vertical-align: middle;\n",
       "    }\n",
       "\n",
       "    .dataframe tbody tr th {\n",
       "        vertical-align: top;\n",
       "    }\n",
       "\n",
       "    .dataframe thead th {\n",
       "        text-align: right;\n",
       "    }\n",
       "</style>\n",
       "<table border=\"1\" class=\"dataframe\">\n",
       "  <thead>\n",
       "    <tr style=\"text-align: right;\">\n",
       "      <th></th>\n",
       "      <th>rotten_tomatoes_link</th>\n",
       "      <th>critic_name</th>\n",
       "      <th>top_critic</th>\n",
       "      <th>publisher_name</th>\n",
       "      <th>review_type</th>\n",
       "      <th>review_score</th>\n",
       "      <th>review_date</th>\n",
       "      <th>review_content</th>\n",
       "      <th>movie_title</th>\n",
       "      <th>movie_info</th>\n",
       "      <th>...</th>\n",
       "      <th>audience_rating</th>\n",
       "      <th>audience_count</th>\n",
       "      <th>tomatometer_top_critics_count</th>\n",
       "      <th>tomatometer_fresh_critics_count</th>\n",
       "      <th>tomatometer_rotten_critics_count</th>\n",
       "      <th>imdb_id</th>\n",
       "      <th>imdb_rating</th>\n",
       "      <th>awards</th>\n",
       "      <th>box_office</th>\n",
       "      <th>rating_normalized</th>\n",
       "    </tr>\n",
       "  </thead>\n",
       "  <tbody>\n",
       "  </tbody>\n",
       "</table>\n",
       "<p>0 rows × 34 columns</p>\n",
       "</div>"
      ],
      "text/plain": [
       "Empty DataFrame\n",
       "Columns: [rotten_tomatoes_link, critic_name, top_critic, publisher_name, review_type, review_score, review_date, review_content, movie_title, movie_info, critics_consensus, content_rating, genres, directors, authors, actors, original_release_date, streaming_release_date, runtime, production_company, tomatometer_status, tomatometer_rating, tomatometer_count, audience_status, audience_rating, audience_count, tomatometer_top_critics_count, tomatometer_fresh_critics_count, tomatometer_rotten_critics_count, imdb_id, imdb_rating, awards, box_office, rating_normalized]\n",
       "Index: []\n",
       "\n",
       "[0 rows x 34 columns]"
      ]
     },
     "execution_count": 18,
     "metadata": {},
     "output_type": "execute_result"
    }
   ],
   "source": [
    "reviews_df[reviews_df['original_release_date'].isna()]"
   ]
  },
  {
   "cell_type": "code",
   "execution_count": 21,
   "id": "a5e8b840-9561-4cbb-a583-3e1c2c4bdaa7",
   "metadata": {},
   "outputs": [
    {
     "data": {
      "text/plain": [
       "8009"
      ]
     },
     "execution_count": 21,
     "metadata": {},
     "output_type": "execute_result"
    }
   ],
   "source": [
    "reviews_df[\"release_year\"] = pd.to_datetime(reviews_df[\"original_release_date\"]).dt.year\n",
    "len(pd.unique(reviews_df[[\"movie_title\", \"release_year\"]].values.ravel('K')))"
   ]
  },
  {
   "cell_type": "code",
   "execution_count": 7,
   "id": "0dd8b63c-90a5-4728-a18c-c51670b4564b",
   "metadata": {},
   "outputs": [
    {
     "data": {
      "text/plain": [
       "68.37919504643963"
      ]
     },
     "execution_count": 7,
     "metadata": {},
     "output_type": "execute_result"
    }
   ],
   "source": [
    "len(reviews_df)/8075"
   ]
  },
  {
   "cell_type": "code",
   "execution_count": 52,
   "id": "5aad9d31-6d62-48b9-9819-88c84f12219b",
   "metadata": {},
   "outputs": [
    {
     "data": {
      "text/plain": [
       "6127"
      ]
     },
     "execution_count": 52,
     "metadata": {},
     "output_type": "execute_result"
    }
   ],
   "source": [
    "reviews_df['critic_name'].nunique()"
   ]
  },
  {
   "cell_type": "code",
   "execution_count": 53,
   "id": "7229c987-7f91-4eda-9d06-ca11b8b65e6f",
   "metadata": {},
   "outputs": [
    {
     "data": {
      "text/plain": [
       "np.float64(89.4759262281704)"
      ]
     },
     "execution_count": 53,
     "metadata": {},
     "output_type": "execute_result"
    }
   ],
   "source": [
    "reviews_df.groupby('critic_name').size().mean()"
   ]
  },
  {
   "cell_type": "code",
   "execution_count": 54,
   "id": "cc59d51e-b4d7-4a16-9b19-40c0d2f02686",
   "metadata": {},
   "outputs": [
    {
     "data": {
      "text/plain": [
       "np.float64(68.37919504643963)"
      ]
     },
     "execution_count": 54,
     "metadata": {},
     "output_type": "execute_result"
    }
   ],
   "source": [
    "reviews_per_movie = reviews_df.groupby('rotten_tomatoes_link').size()\n",
    "reviews_per_movie.mean()"
   ]
  },
  {
   "cell_type": "code",
   "execution_count": 55,
   "id": "af21b711-8496-4dd9-a838-d5aab3d25932",
   "metadata": {},
   "outputs": [
    {
     "data": {
      "text/plain": [
       "rotten_tomatoes_link\n",
       "m/0814255                                121\n",
       "m/0878835                                100\n",
       "m/10                                      12\n",
       "m/1000013-12_angry_men                    34\n",
       "m/1000079-20000_leagues_under_the_sea     13\n",
       "                                        ... \n",
       "m/zoolander                               80\n",
       "m/zoolander_2                            170\n",
       "m/zoom_2006                               57\n",
       "m/zootopia                               207\n",
       "m/zulu                                    10\n",
       "Length: 8075, dtype: int64"
      ]
     },
     "execution_count": 55,
     "metadata": {},
     "output_type": "execute_result"
    }
   ],
   "source": [
    "reviews_per_movie"
   ]
  },
  {
   "cell_type": "markdown",
   "id": "2f978485-b925-4632-9677-a5896ab25a83",
   "metadata": {},
   "source": [
    "8075 movies. 94.4 review (and reviewer) per movie.\n",
    "9825 reviewers.  78.5 reviews (and movies) per reviewer on avg."
   ]
  },
  {
   "cell_type": "code",
   "execution_count": 56,
   "id": "96045b20-8319-4434-8568-38b4b84f5a44",
   "metadata": {},
   "outputs": [
    {
     "data": {
      "text/plain": [
       "np.float64(67.64730650154799)"
      ]
     },
     "execution_count": 56,
     "metadata": {},
     "output_type": "execute_result"
    }
   ],
   "source": [
    "reviews_df.groupby('rotten_tomatoes_link')['critic_name'].nunique().mean()"
   ]
  },
  {
   "cell_type": "code",
   "execution_count": 57,
   "id": "b672de32-8e83-4b48-ac1c-f53a23d94fd3",
   "metadata": {},
   "outputs": [
    {
     "data": {
      "text/plain": [
       "np.float64(89.1548881997715)"
      ]
     },
     "execution_count": 57,
     "metadata": {},
     "output_type": "execute_result"
    }
   ],
   "source": [
    "reviews_df.groupby('critic_name')['rotten_tomatoes_link'].nunique().mean()"
   ]
  },
  {
   "cell_type": "code",
   "execution_count": 4,
   "id": "ca0beb17-d84a-4fe2-8e55-49dc61985b48",
   "metadata": {},
   "outputs": [],
   "source": [
    "# Apply normalization\n",
    "reviews_df['rating_normalized'] = reviews_df['review_score'].apply(normalize_rating)"
   ]
  },
  {
   "cell_type": "code",
   "execution_count": 48,
   "id": "23e90641-aac4-49fc-b100-a1401f23f34d",
   "metadata": {},
   "outputs": [
    {
     "name": "stdout",
     "output_type": "stream",
     "text": [
      "============================================================\n",
      "RATING FORMAT ANALYSIS\n",
      "============================================================\n",
      "\n",
      "1. Sample original ratings:\n",
      "review_score\n",
      "3/5      53502\n",
      "4/5      52168\n",
      "3/4      51257\n",
      "2/5      35719\n",
      "2/4      34393\n",
      "2.5/4    32641\n",
      "3.5/4    25157\n",
      "3.5/5    20800\n",
      "B        16683\n",
      "5/5      15354\n",
      "1.5/4    14795\n",
      "2.5/5    14637\n",
      "B+       13795\n",
      "4/4      13529\n",
      "1/5      12233\n",
      "B-       10756\n",
      "1/4      10662\n",
      "C        10163\n",
      "4.5/5     8682\n",
      "7/10      8169\n",
      "Name: count, dtype: int64\n",
      "\n",
      "2. Normalized ratings stats:\n",
      "count    552162.000000\n",
      "mean          6.533300\n",
      "std           2.088468\n",
      "min           0.000000\n",
      "25%           5.000000\n",
      "50%           7.000000\n",
      "75%           8.000000\n",
      "max          90.000000\n",
      "Name: rating_normalized, dtype: float64\n",
      "\n",
      "3. Valid ratings: 552162 / 762263\n",
      "   Success rate: 72.4%\n",
      "\n",
      "4. Rating format breakdown:\n",
      "format_type\n",
      "fraction    460682\n",
      "null        210098\n",
      "letter       90358\n",
      "numeric       1125\n",
      "Name: count, dtype: int64\n",
      "\n",
      "5. Sample unknown formats:\n",
      "None!\n"
     ]
    }
   ],
   "source": [
    "# Statistics\n",
    "print(\"=\"*60)\n",
    "print(\"RATING FORMAT ANALYSIS\")\n",
    "print(\"=\"*60)\n",
    "\n",
    "print(\"\\n1. Sample original ratings:\")\n",
    "print(reviews_df['review_score'].value_counts().head(20))\n",
    "\n",
    "print(\"\\n2. Normalized ratings stats:\")\n",
    "print(reviews_df['rating_normalized'].describe())\n",
    "\n",
    "print(f\"\\n3. Valid ratings: {reviews_df['rating_normalized'].notna().sum()} / {len(reviews_df)}\")\n",
    "print(f\"   Success rate: {reviews_df['rating_normalized'].notna().sum() / len(reviews_df) * 100:.1f}%\")\n",
    "\n",
    "print(\"\\n4. Rating format breakdown:\")\n",
    "# Detect format types\n",
    "def detect_format(rating_str):\n",
    "    if pd.isna(rating_str) or rating_str == '<null>':\n",
    "        return 'null'\n",
    "    rating_str = str(rating_str).strip().replace(\" \", \"\")\n",
    "    if '/' in rating_str:\n",
    "        return 'fraction'\n",
    "    if rating_str.upper() in ['A+', 'A', 'A-', 'B+', 'B', 'B-', 'C+', 'C', 'C-', 'D+', 'D', 'D-', 'F']:\n",
    "        return 'letter'\n",
    "    try:\n",
    "        float(rating_str)\n",
    "        return 'numeric'\n",
    "    except:\n",
    "        return 'unknown'\n",
    "\n",
    "reviews_df['format_type'] = reviews_df['review_score'].apply(detect_format)\n",
    "print(reviews_df['format_type'].value_counts())\n",
    "\n",
    "print(\"\\n5. Sample unknown formats:\")\n",
    "unknown = reviews_df[reviews_df['format_type'] == 'unknown']['review_score'].value_counts().head(10)\n",
    "if len(unknown) > 0:\n",
    "    print(unknown)\n",
    "else:\n",
    "    print(\"None!\")"
   ]
  },
  {
   "cell_type": "code",
   "execution_count": null,
   "id": "56a8350b-6018-4a8b-82bb-1d1f8235b45c",
   "metadata": {},
   "outputs": [],
   "source": []
  }
 ],
 "metadata": {
  "kernelspec": {
   "display_name": "Python 3 (ipykernel)",
   "language": "python",
   "name": "python3"
  },
  "language_info": {
   "codemirror_mode": {
    "name": "ipython",
    "version": 3
   },
   "file_extension": ".py",
   "mimetype": "text/x-python",
   "name": "python",
   "nbconvert_exporter": "python",
   "pygments_lexer": "ipython3",
   "version": "3.12.11"
  }
 },
 "nbformat": 4,
 "nbformat_minor": 5
}
