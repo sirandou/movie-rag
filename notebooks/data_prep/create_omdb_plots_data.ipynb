{
 "cells": [
  {
   "cell_type": "markdown",
   "id": "de7aec86-1035-4712-b7a2-1f6058bc992c",
   "metadata": {},
   "source": [
    "# Create plots data from OMDB, join all movie metadata to both plots and reviews data"
   ]
  },
  {
   "cell_type": "code",
   "execution_count": 21,
   "id": "2ac7313e-6d36-498d-9eff-8a5eb4507bbd",
   "metadata": {},
   "outputs": [],
   "source": [
    "import os\n",
    "from path import Path"
   ]
  },
  {
   "cell_type": "code",
   "execution_count": 46,
   "id": "0d40506b-b2fd-4ca4-b50c-3574eabbdbee",
   "metadata": {},
   "outputs": [],
   "source": [
    "# fetch_movie_plots.py\n",
    "# Creates a separate plot file without modifying RT data\n",
    "\n",
    "import pandas as pd\n",
    "import requests\n",
    "import time\n",
    "import json\n",
    "from typing import Dict, Optional\n",
    "\n",
    "class MoviePlotFetcher:\n",
    "    def __init__(self, api_key: str) -> None:\n",
    "        self.base_url = \"http://www.omdbapi.com/\" + api_key\n",
    "        \n",
    "    def get_movie_plot(self, title: str, year: str | int) -> Dict:\n",
    "        \"\"\"Fetch full plot and metadata from OMDb\"\"\"\n",
    "\n",
    "        params = {\n",
    "            't': title.strip(),\n",
    "            'plot': 'full',  # Get full plot, not short\n",
    "            'type': 'movie',\n",
    "            'y': year,\n",
    "        }\n",
    "        \n",
    "        try:\n",
    "            response = requests.get(self.base_url, params=params)\n",
    "            if response.status_code == 200:\n",
    "                data = response.json()\n",
    "                \n",
    "                if data.get('Response') == 'True':\n",
    "                    return {\n",
    "                        'found': True,\n",
    "                        'plot': data.get('Plot', ''),\n",
    "                        'imdb_rating': data.get('imdbRating', ''),\n",
    "                        'imdb_id': data.get('imdbID', ''),\n",
    "                        'awards': data.get('Awards', ''),\n",
    "                        'box_office': data.get('BoxOffice', ''),\n",
    "                        'plot_length': len(data.get('Plot', ''))\n",
    "                    }\n",
    "        except Exception as e:\n",
    "            print(f\"Error fetching {title}: {e}\")\n",
    "        \n",
    "        return {'found': False}"
   ]
  },
  {
   "cell_type": "code",
   "execution_count": 53,
   "id": "d97d2fdf-3263-4e7a-9983-131766d1c552",
   "metadata": {},
   "outputs": [],
   "source": [
    "def create_plot_dataset(path: Path, rt_file_name: str, api_key: str, sample_size: Optional[int] = None) -> pd.DataFrame:\n",
    "    \"\"\"Create a separate dataset with movie plots\"\"\"\n",
    "    \n",
    "    rt_data = pd.read_csv(path / rt_file_name)\n",
    "    \n",
    "    # Get unique movies\n",
    "    unique_movies = rt_data[['rotten_tomatoes_link', 'movie_title', 'original_release_date']].drop_duplicates().reset_index(drop=True)\n",
    "    \n",
    "    print(f\"Fetching plots for {len(unique_movies)} movies...\")\n",
    "    \n",
    "    fetcher = MoviePlotFetcher(api_key)\n",
    "    plot_data = []\n",
    "    \n",
    "    for idx, row in unique_movies.iterrows():\n",
    "        movie_data = {\n",
    "            'rotten_tomatoes_link': row['rotten_tomatoes_link'],\n",
    "            'movie_title': row['movie_title'],\n",
    "            'original_release_date': row.get('original_release_date')\n",
    "        }\n",
    "        \n",
    "        # Get plot from OMDb. Skip the movie if no plot found\n",
    "        omdb_data = fetcher.get_movie_plot(\n",
    "            row['movie_title'], \n",
    "            pd.to_datetime(row['original_release_date']).year\n",
    "        )\n",
    "        if not omdb_data['found']:\n",
    "            continue\n",
    "        \n",
    "        # Combine data\n",
    "        movie_data.update(omdb_data)\n",
    "        plot_data.append(movie_data)\n",
    "        # Progress update\n",
    "        if (idx + 1) % 100 == 0:\n",
    "            print(f\"Processed {idx + 1}/{len(unique_movies)} movies\")\n",
    "    \n",
    "    # Create final dataframe\n",
    "    plots_df = pd.DataFrame(plot_data)\n",
    "    \n",
    "    # Statistics\n",
    "    print(\"\\nPlot Dataset Statistics:\")\n",
    "    print(f\"Total movies processed: {len(unique_movies)}\")\n",
    "    print(f\"Movies with plots found: {len(plots_df)}\")\n",
    "    print(f\"Average plot length: {plots_df['plot_length'].mean():.0f} chars\")\n",
    "    print(f\"Max plot length: {plots_df['plot_length'].max()} chars\")\n",
    "    print(f\"Movies with long plots (>500 chars): {(plots_df['plot_length'] > 500).sum()}\")\n",
    "    \n",
    "    # Save the plot dataset\n",
    "    plots_df.to_csv(path / 'movie_plots.csv', index=False)\n",
    "    print(f\"\\nSaved to data/processed/movie_plots.csv\")\n",
    "    \n",
    "    return plots_df"
   ]
  },
  {
   "cell_type": "code",
   "execution_count": 54,
   "id": "cbf21ca2-a2cf-47a6-af2a-14b6261f4a1d",
   "metadata": {},
   "outputs": [
    {
     "name": "stdout",
     "output_type": "stream",
     "text": [
      "Fetching plots for 8075 movies...\n",
      "Processed 100/8075 movies\n",
      "Processed 200/8075 movies\n",
      "Processed 500/8075 movies\n",
      "Processed 600/8075 movies\n",
      "Processed 700/8075 movies\n",
      "Processed 800/8075 movies\n",
      "Processed 1100/8075 movies\n",
      "Processed 1300/8075 movies\n",
      "Processed 1400/8075 movies\n",
      "Processed 1500/8075 movies\n",
      "Processed 1600/8075 movies\n",
      "Processed 1700/8075 movies\n",
      "Processed 1900/8075 movies\n",
      "Processed 2100/8075 movies\n",
      "Processed 2200/8075 movies\n",
      "Processed 2300/8075 movies\n",
      "Processed 2400/8075 movies\n",
      "Processed 2600/8075 movies\n",
      "Processed 2700/8075 movies\n",
      "Processed 2800/8075 movies\n",
      "Processed 2900/8075 movies\n",
      "Processed 3000/8075 movies\n",
      "Processed 3100/8075 movies\n",
      "Processed 3200/8075 movies\n",
      "Processed 3300/8075 movies\n",
      "Processed 3400/8075 movies\n",
      "Processed 3500/8075 movies\n",
      "Processed 3600/8075 movies\n",
      "Processed 3700/8075 movies\n",
      "Processed 3800/8075 movies\n",
      "Processed 3900/8075 movies\n",
      "Processed 4000/8075 movies\n",
      "Processed 4200/8075 movies\n",
      "Processed 4300/8075 movies\n",
      "Processed 4400/8075 movies\n",
      "Processed 4500/8075 movies\n",
      "Processed 4600/8075 movies\n",
      "Processed 5000/8075 movies\n",
      "Processed 5100/8075 movies\n",
      "Processed 5200/8075 movies\n",
      "Processed 5300/8075 movies\n",
      "Processed 5400/8075 movies\n",
      "Processed 5500/8075 movies\n",
      "Processed 5600/8075 movies\n",
      "Processed 5700/8075 movies\n",
      "Processed 5800/8075 movies\n",
      "Processed 5900/8075 movies\n",
      "Processed 6000/8075 movies\n",
      "Processed 6100/8075 movies\n",
      "Processed 6200/8075 movies\n",
      "Processed 6300/8075 movies\n",
      "Processed 6400/8075 movies\n",
      "Processed 6500/8075 movies\n",
      "Processed 6700/8075 movies\n",
      "Processed 6900/8075 movies\n",
      "Processed 7000/8075 movies\n",
      "Processed 7100/8075 movies\n",
      "Processed 7200/8075 movies\n",
      "Processed 7300/8075 movies\n",
      "Processed 7400/8075 movies\n",
      "Processed 7700/8075 movies\n",
      "Processed 7800/8075 movies\n",
      "Processed 8000/8075 movies\n",
      "\n",
      "Plot Dataset Statistics:\n",
      "Total movies processed: 8075\n",
      "Movies with plots found: 6432\n",
      "Average plot length: 580 chars\n",
      "Max plot length: 3146 chars\n",
      "Movies with long plots (>500 chars): 3246\n",
      "\n",
      "Saved to data/processed/movie_plots.csv\n"
     ]
    }
   ],
   "source": [
    "# Step 1: Fetch plots (creates separate file)\n",
    "\n",
    "plots_df = create_plot_dataset(\n",
    "    path = Path('/Users/saghar/Desktop/my-project-2025/datasets/rotten-tomatoes-reviews/prep'),\n",
    "    rt_file_name='reviews_w_movies_full.csv',\n",
    "    api_key=os.getenv('OMDB_API_KEY'),\n",
    ")"
   ]
  },
  {
   "cell_type": "code",
   "execution_count": 22,
   "id": "51e4dff7-06db-4329-b494-15da74190855",
   "metadata": {},
   "outputs": [],
   "source": [
    "path = Path('/Users/saghar/Desktop/my-project-2025/datasets/rotten-tomatoes-reviews/prep')\n",
    "rt_file_name='reviews_w_movies_full.csv'\n",
    "rt_data = pd.read_csv(path / rt_file_name)"
   ]
  },
  {
   "cell_type": "code",
   "execution_count": 85,
   "id": "5fc91b0e-2936-4ad9-90e3-864e88d29207",
   "metadata": {},
   "outputs": [],
   "source": [
    "# Create one metadata file for movies\n",
    "# Add the columns to both csv files\n",
    "movie_id_cols = ['rotten_tomatoes_link', 'movie_title', 'original_release_date']\n",
    "movie_metadata_cols = ['movie_info', 'critics_consensus', 'content_rating', 'genres', 'directors', 'authors', 'actors', 'streaming_release_date', 'runtime', 'production_company', 'tomatometer_status', 'tomatometer_rating', 'tomatometer_count', 'audience_status', 'audience_rating', 'audience_count', 'tomatometer_top_critics_count', 'tomatometer_fresh_critics_count', 'tomatometer_rotten_critics_count']\n",
    "movie_omdb_metadata_cols = ['imdb_id', 'imdb_rating', 'awards', 'box_office']"
   ]
  },
  {
   "cell_type": "code",
   "execution_count": 56,
   "id": "b6dedbba-991b-44f7-9bcc-32e66805c810",
   "metadata": {},
   "outputs": [],
   "source": [
    "review_df = pd.read_csv(path / 'reviews_w_movies_full.csv')\n",
    "plot_df = pd.read_csv(path / 'movie_plots.csv')"
   ]
  },
  {
   "cell_type": "code",
   "execution_count": 72,
   "id": "79d64a1d-295b-4bff-9ec6-d0548fc3e2f6",
   "metadata": {},
   "outputs": [],
   "source": [
    "# keep unique movies only to later extract movie metadata\n",
    "review_df_unique_movies = review_df.drop_duplicates(subset=movie_id_cols, keep=\"first\")"
   ]
  },
  {
   "cell_type": "code",
   "execution_count": 62,
   "id": "ca1e6ec6-c81f-40b0-9f5d-5b3dd93e7e21",
   "metadata": {},
   "outputs": [
    {
     "name": "stdout",
     "output_type": "stream",
     "text": [
      "length of reviews df is 762263\n"
     ]
    }
   ],
   "source": [
    "review_df_w_meta = review_df.merge(\n",
    "        plot_df[movie_id_cols + movie_omdb_metadata_cols],\n",
    "        on=movie_id_cols,\n",
    "        how='left'\n",
    "    )\n",
    "review_df_w_meta = review_df_w_meta.sort_values(by=['rotten_tomatoes_link']).reset_index(drop=True)\n",
    "print(f\"length of reviews df is {len(review_df_w_meta)}\")"
   ]
  },
  {
   "cell_type": "code",
   "execution_count": 86,
   "id": "964f0266-30b1-440e-8505-590745d3856a",
   "metadata": {},
   "outputs": [
    {
     "name": "stdout",
     "output_type": "stream",
     "text": [
      "length of plot df is 6432\n"
     ]
    }
   ],
   "source": [
    "plot_df_w_meta = plot_df.merge(\n",
    "        review_df_unique_movies[movie_id_cols + movie_metadata_cols],\n",
    "        on=movie_id_cols,\n",
    "        how='left'\n",
    "    )\n",
    "plot_df_w_meta = plot_df_w_meta.sort_values(by=['rotten_tomatoes_link']).reset_index(drop=True)\n",
    "print(f\"length of plot df is {len(plot_df_w_meta)}\")"
   ]
  },
  {
   "cell_type": "code",
   "execution_count": 87,
   "id": "1897131e-290f-43e5-84cf-dac203ddc7cf",
   "metadata": {},
   "outputs": [
    {
     "name": "stdout",
     "output_type": "stream",
     "text": [
      "\n",
      "Saved to data/processed with all available movie metadata\n"
     ]
    }
   ],
   "source": [
    "review_df_w_meta.to_csv(path / 'reviews_w_movies_full.csv', index=False)\n",
    "plot_df_w_meta.to_csv(path / 'movie_plots.csv', index=False)\n",
    "print(f\"\\nSaved to data/processed with all available movie metadata\")"
   ]
  },
  {
   "cell_type": "code",
   "execution_count": null,
   "id": "4abd074b-99ba-49f3-b2b5-a9933df63599",
   "metadata": {},
   "outputs": [],
   "source": []
  }
 ],
 "metadata": {
  "kernelspec": {
   "display_name": "Python 3 (ipykernel)",
   "language": "python",
   "name": "python3"
  },
  "language_info": {
   "codemirror_mode": {
    "name": "ipython",
    "version": 3
   },
   "file_extension": ".py",
   "mimetype": "text/x-python",
   "name": "python",
   "nbconvert_exporter": "python",
   "pygments_lexer": "ipython3",
   "version": "3.12.11"
  }
 },
 "nbformat": 4,
 "nbformat_minor": 5
}
