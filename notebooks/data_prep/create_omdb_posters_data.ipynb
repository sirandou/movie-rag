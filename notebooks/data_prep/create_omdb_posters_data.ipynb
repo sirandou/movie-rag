{
 "cells": [
  {
   "cell_type": "markdown",
   "id": "de7aec86-1035-4712-b7a2-1f6058bc992c",
   "metadata": {},
   "source": [
    "# Create posters data from OMDB (fetch poster and save the path), join with metadata"
   ]
  },
  {
   "cell_type": "code",
   "execution_count": 1,
   "id": "2ac7313e-6d36-498d-9eff-8a5eb4507bbd",
   "metadata": {},
   "outputs": [],
   "source": [
    "import os\n",
    "from path import Path"
   ]
  },
  {
   "cell_type": "code",
   "execution_count": 2,
   "id": "c6020f28-cbe6-4ca3-9756-6d18a5192a0e",
   "metadata": {},
   "outputs": [],
   "source": [
    "import pandas as pd\n",
    "import requests\n",
    "import time\n",
    "from pathlib import Path\n",
    "from typing import Dict, Optional\n",
    "\n",
    "class MoviePosterFetcher:\n",
    "    def __init__(self, api_key: str, poster_dir: Path) -> None:\n",
    "        self.base_url = \"http://www.omdbapi.com/\" + api_key\n",
    "        self.poster_dir = poster_dir\n",
    "        self.poster_dir.mkdir(parents=True, exist_ok=True)\n",
    "\n",
    "    def get_movie_poster(self, title: str, year: str | int) -> Dict:\n",
    "        \"\"\"Fetch movie poster URL and minimal metadata from OMDb\"\"\"\n",
    "        params = {\n",
    "            \"t\": title.strip(),\n",
    "            \"type\": \"movie\",\n",
    "            \"y\": year,\n",
    "        }\n",
    "\n",
    "        try:\n",
    "            response = requests.get(self.base_url, params=params)\n",
    "            if response.status_code == 200:\n",
    "                data = response.json()\n",
    "\n",
    "                if data.get(\"Response\") == \"True\":\n",
    "                    \n",
    "                    poster_url = data.get(\"Poster\")\n",
    "                    imdb_id = data.get(\"imdbID\", \"\")\n",
    "\n",
    "                    if poster_url and poster_url.lower() != \"n/a\":\n",
    "                        poster_path = self.download_poster(imdb_id, poster_url)\n",
    "                    else:\n",
    "                        poster_path = None\n",
    "                    return {\n",
    "                        \"found\": True,\n",
    "                        \"poster_path\": str(poster_path) if poster_path else None,\n",
    "                    }\n",
    "        except Exception as e:\n",
    "            print(f\"Error fetching {title}: {e}\")\n",
    "\n",
    "        return {\"found\": False}\n",
    "\n",
    "    def download_poster(self, imdb_id: str, poster_url: str) -> Optional[Path]:\n",
    "        \"\"\"Download and save the poster locally.\"\"\"\n",
    "        try:\n",
    "            response = requests.get(poster_url)\n",
    "            if response.status_code == 200:\n",
    "                ext = os.path.splitext(poster_url)[1] or \".jpg\"\n",
    "                poster_path = self.poster_dir / f\"{imdb_id}{ext}\"\n",
    "                with open(poster_path, \"wb\") as f:\n",
    "                    f.write(response.content)\n",
    "                return poster_path\n",
    "        except Exception as e:\n",
    "            print(f\"Error downloading poster {imdb_id}: {e}\")\n",
    "        return None"
   ]
  },
  {
   "cell_type": "code",
   "execution_count": 6,
   "id": "e1828717-0423-4132-82ed-b1cbb8f09bd4",
   "metadata": {},
   "outputs": [],
   "source": [
    "def create_poster_dataset(\n",
    "    path: Path,\n",
    "    poster_dir: Path,\n",
    "    rt_file_name: str,\n",
    "    api_key: str,\n",
    "    sample_size: Optional[int] = None\n",
    ") -> pd.DataFrame:\n",
    "    \"\"\"Create a dataset with unique movies and poster paths\"\"\"\n",
    "\n",
    "    rt_data = pd.read_csv(path / rt_file_name)\n",
    "\n",
    "    # Get unique movies\n",
    "    unique_movies = (\n",
    "        rt_data[[\"rotten_tomatoes_link\", \"movie_title\", \"original_release_date\"]]\n",
    "        .drop_duplicates()\n",
    "        .reset_index(drop=True)\n",
    "    )\n",
    "\n",
    "    if sample_size:\n",
    "        unique_movies = unique_movies.sample(sample_size, random_state=42)\n",
    "\n",
    "    print(f\"Fetching posters for {len(unique_movies)} movies...\")\n",
    "\n",
    "    fetcher = MoviePosterFetcher(api_key, poster_dir)\n",
    "    poster_data = []\n",
    "\n",
    "    for idx, row in unique_movies.iterrows():\n",
    "        movie_data = {\n",
    "            \"rotten_tomatoes_link\": row[\"rotten_tomatoes_link\"],\n",
    "            \"movie_title\": row[\"movie_title\"],\n",
    "            \"original_release_date\": row.get(\"original_release_date\"),\n",
    "        }\n",
    "\n",
    "        omdb_data = fetcher.get_movie_poster(\n",
    "            row[\"movie_title\"],\n",
    "            pd.to_datetime(row[\"original_release_date\"]).year\n",
    "        )\n",
    "        if not omdb_data[\"found\"]:\n",
    "            continue\n",
    "\n",
    "        movie_data.update(omdb_data)\n",
    "        poster_data.append(movie_data)\n",
    "\n",
    "        # Progress update\n",
    "        if (idx + 1) % 100 == 0:\n",
    "            print(f\"Processed {idx + 1}/{len(unique_movies)} movies\")\n",
    "\n",
    "    posters_df = pd.DataFrame(poster_data)\n",
    "\n",
    "    # Statistics\n",
    "    print(\"\\nPoster Dataset Statistics:\")\n",
    "    print(f\"Total movies processed: {len(unique_movies)}\")\n",
    "    print(f\"Movies with posters found: {len(posters_df)}\")\n",
    "    \n",
    "    # Save the plot dataset\n",
    "    posters_df.to_csv(path / 'movie_posters.csv', index=False)\n",
    "    print(f\"\\nSaved to data/processed/movie_posters.csv\")\n",
    "    \n",
    "    return posters_df"
   ]
  },
  {
   "cell_type": "code",
   "execution_count": 7,
   "id": "cbf21ca2-a2cf-47a6-af2a-14b6261f4a1d",
   "metadata": {},
   "outputs": [
    {
     "name": "stdout",
     "output_type": "stream",
     "text": [
      "Fetching posters for 8075 movies...\n",
      "Processed 100/8075 movies\n",
      "Processed 200/8075 movies\n",
      "Processed 500/8075 movies\n",
      "Processed 600/8075 movies\n",
      "Processed 700/8075 movies\n",
      "Processed 800/8075 movies\n",
      "Processed 1100/8075 movies\n",
      "Processed 1300/8075 movies\n",
      "Processed 1400/8075 movies\n",
      "Processed 1500/8075 movies\n",
      "Processed 1600/8075 movies\n",
      "Processed 1700/8075 movies\n",
      "Processed 1900/8075 movies\n",
      "Processed 2100/8075 movies\n",
      "Processed 2200/8075 movies\n",
      "Processed 2300/8075 movies\n",
      "Processed 2400/8075 movies\n",
      "Processed 2600/8075 movies\n",
      "Processed 2700/8075 movies\n",
      "Processed 2800/8075 movies\n",
      "Processed 2900/8075 movies\n",
      "Processed 3000/8075 movies\n",
      "Processed 3100/8075 movies\n",
      "Processed 3200/8075 movies\n",
      "Processed 3300/8075 movies\n",
      "Processed 3400/8075 movies\n",
      "Processed 3500/8075 movies\n",
      "Processed 3600/8075 movies\n",
      "Processed 3700/8075 movies\n",
      "Processed 3800/8075 movies\n",
      "Processed 3900/8075 movies\n",
      "Processed 4000/8075 movies\n",
      "Processed 4200/8075 movies\n",
      "Processed 4300/8075 movies\n",
      "Processed 4400/8075 movies\n",
      "Processed 4500/8075 movies\n",
      "Processed 4600/8075 movies\n",
      "Processed 5000/8075 movies\n",
      "Processed 5100/8075 movies\n",
      "Processed 5200/8075 movies\n",
      "Processed 5300/8075 movies\n",
      "Processed 5400/8075 movies\n",
      "Processed 5500/8075 movies\n",
      "Processed 5600/8075 movies\n",
      "Processed 5700/8075 movies\n",
      "Processed 5800/8075 movies\n",
      "Processed 5900/8075 movies\n",
      "Processed 6000/8075 movies\n",
      "Processed 6100/8075 movies\n",
      "Processed 6200/8075 movies\n",
      "Processed 6300/8075 movies\n",
      "Processed 6400/8075 movies\n",
      "Processed 6500/8075 movies\n",
      "Processed 6700/8075 movies\n",
      "Processed 6900/8075 movies\n",
      "Processed 7000/8075 movies\n",
      "Processed 7100/8075 movies\n",
      "Processed 7200/8075 movies\n",
      "Processed 7300/8075 movies\n",
      "Processed 7400/8075 movies\n",
      "Processed 7700/8075 movies\n",
      "Processed 7800/8075 movies\n",
      "Processed 8000/8075 movies\n",
      "\n",
      "Poster Dataset Statistics:\n",
      "Total movies processed: 8075\n",
      "Movies with posters found: 6431\n",
      "\n",
      "Saved to data/processed/movie_posters.csv\n"
     ]
    }
   ],
   "source": [
    "# Step 1: Fetch posters (creates separate file)\n",
    "\n",
    "posters_df = create_poster_dataset(\n",
    "    path = Path('/Users/saghar/Desktop/movie-rag/datasets/rotten-tomatoes-reviews/prep'),\n",
    "    poster_dir = Path('/Users/saghar/Desktop/movie-rag/datasets/rotten-tomatoes-reviews/prep/posters'),\n",
    "    rt_file_name='reviews_w_movies_full.csv',\n",
    "    api_key=os.getenv('POSTER_API_KEY'),\n",
    ")"
   ]
  },
  {
   "cell_type": "code",
   "execution_count": 8,
   "id": "5fc91b0e-2936-4ad9-90e3-864e88d29207",
   "metadata": {},
   "outputs": [],
   "source": [
    "# Add the metadata columns\n",
    "movie_id_cols = ['rotten_tomatoes_link', 'movie_title', 'original_release_date']\n",
    "movie_metadata_cols = ['imdb_id', 'imdb_rating', 'awards', 'box_office', 'movie_info', 'critics_consensus', 'content_rating', 'genres', 'directors', 'authors', 'actors', 'streaming_release_date', 'runtime', 'production_company', 'tomatometer_status', 'tomatometer_rating', 'tomatometer_count', 'audience_status', 'audience_rating', 'audience_count', 'tomatometer_top_critics_count', 'tomatometer_fresh_critics_count', 'tomatometer_rotten_critics_count']"
   ]
  },
  {
   "cell_type": "code",
   "execution_count": 9,
   "id": "b6dedbba-991b-44f7-9bcc-32e66805c810",
   "metadata": {},
   "outputs": [],
   "source": [
    "path = Path('/Users/saghar/Desktop/movie-rag/datasets/rotten-tomatoes-reviews/prep')\n",
    "review_df = pd.read_csv(path / 'reviews_w_movies_full.csv')\n",
    "poster_df = pd.read_csv(path / 'movie_posters.csv')"
   ]
  },
  {
   "cell_type": "code",
   "execution_count": 10,
   "id": "79d64a1d-295b-4bff-9ec6-d0548fc3e2f6",
   "metadata": {},
   "outputs": [],
   "source": [
    "# keep unique movies only to later extract movie metadata\n",
    "review_df_unique_movies = review_df.drop_duplicates(subset=movie_id_cols, keep=\"first\")"
   ]
  },
  {
   "cell_type": "code",
   "execution_count": 11,
   "id": "964f0266-30b1-440e-8505-590745d3856a",
   "metadata": {},
   "outputs": [
    {
     "name": "stdout",
     "output_type": "stream",
     "text": [
      "length of posters df is 6431\n"
     ]
    }
   ],
   "source": [
    "posters_df_w_meta = posters_df.merge(\n",
    "        review_df_unique_movies[movie_id_cols + movie_metadata_cols],\n",
    "        on=movie_id_cols,\n",
    "        how='left'\n",
    "    )\n",
    "posters_df_w_meta = posters_df_w_meta.sort_values(by=['rotten_tomatoes_link']).reset_index(drop=True)\n",
    "print(f\"length of posters df is {len(posters_df_w_meta)}\")"
   ]
  },
  {
   "cell_type": "code",
   "execution_count": 12,
   "id": "1897131e-290f-43e5-84cf-dac203ddc7cf",
   "metadata": {},
   "outputs": [
    {
     "name": "stdout",
     "output_type": "stream",
     "text": [
      "\n",
      "Saved to data/processed with all available movie metadata\n"
     ]
    }
   ],
   "source": [
    "posters_df_w_meta.to_csv(path / 'movie_posters.csv', index=False)\n",
    "print(f\"\\nSaved to data/processed with all available movie metadata\")"
   ]
  }
 ],
 "metadata": {
  "kernelspec": {
   "display_name": "Python 3 (ipykernel)",
   "language": "python",
   "name": "python3"
  },
  "language_info": {
   "codemirror_mode": {
    "name": "ipython",
    "version": 3
   },
   "file_extension": ".py",
   "mimetype": "text/x-python",
   "name": "python",
   "nbconvert_exporter": "python",
   "pygments_lexer": "ipython3",
   "version": "3.12.11"
  }
 },
 "nbformat": 4,
 "nbformat_minor": 5
}
