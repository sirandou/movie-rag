{
 "cells": [
  {
   "cell_type": "markdown",
   "id": "ddc66e8d-8344-4924-a78a-4bedba6d8ea6",
   "metadata": {},
   "source": [
    "## Self-RAG (RAG with self critique), RAGAS"
   ]
  },
  {
   "cell_type": "code",
   "execution_count": 1,
   "id": "35cd39ff2702c66a",
   "metadata": {},
   "outputs": [
    {
     "name": "stdout",
     "output_type": "stream",
     "text": [
      "✓ Imports successful\n"
     ]
    }
   ],
   "source": [
    "# Setup & Imports\n",
    "import time\n",
    "\n",
    "from src.langchain.chains.movie_rag import MovieRAGChain\n",
    "from src.langchain.prompts import ZERO_SHOT_QA_PROMPT\n",
    "\n",
    "print(\"✓ Imports successful\")"
   ]
  },
  {
   "cell_type": "code",
   "execution_count": 2,
   "id": "bfd5ff2937a219f4",
   "metadata": {},
   "outputs": [],
   "source": [
    "# Configuration\n",
    "PLOTS_PATH = \"/Users/saghar/Desktop/movie-rag/datasets/rotten-tomatoes-reviews/prep/movie_plots.csv\"\n",
    "REVIEWS_PATH = \"/Users/saghar/Desktop/movie-rag/datasets/rotten-tomatoes-reviews/prep/reviews_w_movies_full.csv\"\n",
    "MAX_MOVIES = 500  # Limit for faster demos"
   ]
  },
  {
   "cell_type": "code",
   "execution_count": 3,
   "id": "821675c45002a6b5",
   "metadata": {},
   "outputs": [],
   "source": [
    "def run(chain, query, strategy_name):\n",
    "    start = time.time()\n",
    "    result = chain.query(query)\n",
    "    time_t = time.time() - start\n",
    "\n",
    "    print(f\"\\nStrategy: {strategy_name}\")\n",
    "    print(f\"\\nQuery: {query}\")\n",
    "    print(f\"\\nTime: {time_t:.2f}s\")\n",
    "    print(f\"\\nAnswer: {result['answer']}\")\n",
    "    print(f\"\\nTop 5 Retrieved:\")\n",
    "    if 'hyde_query' in result['sources'][0]['metadata']:\n",
    "            print(f\"\\n  hyde query: {result['sources'][0]['metadata']['hyde_query']}\")\n",
    "    for src in result['sources'][:5]:\n",
    "        score = src['metadata'].get('score', 'N/A')\n",
    "        print(f\"\\n  {src['metadata']['movie_title']} - {src['metadata']['release_year']}(initial score={score})\")\n",
    "        print(f\"\\n content: {src['content']}...\")\n",
    "        if 'rerank_score' in src['metadata']:\n",
    "            print(f\"\\n  rerank score: {src['metadata']['rerank_score']:.3f}\")\n",
    "    if 'citations' in result:\n",
    "        print(f\"\\n  Citations: {', '.join(result.get('citations', [])[:3])}\")"
   ]
  },
  {
   "cell_type": "markdown",
   "id": "3519dc841dec50cd",
   "metadata": {},
   "source": [
    "#### RAG + HyDE + Reranking"
   ]
  },
  {
   "cell_type": "code",
   "execution_count": 4,
   "id": "ea1098abc25a5043",
   "metadata": {
    "scrolled": true
   },
   "outputs": [
    {
     "name": "stdout",
     "output_type": "stream",
     "text": [
      "============================================================\n",
      "RAG (HyDE + Reranking)\n",
      "============================================================\n",
      "✓ MovieRAGChain initialized\n",
      "  Retriever type: custom + reranking + HyDE\n",
      "  LLM: gpt-4o-mini\n",
      "\n",
      "============================================================\n",
      "Building RAG Pipeline\n",
      "============================================================\n",
      "\n",
      "1. Loading documents...\n",
      "Limiting to 500 movies\n",
      "Loading plots from /Users/saghar/Desktop/movie-rag/datasets/rotten-tomatoes-reviews/prep/movie_plots.csv...\n",
      "Created 383 plot docs.\n",
      "  ✓ 383 plot documents\n",
      "Loading reviews from /Users/saghar/Desktop/movie-rag/datasets/rotten-tomatoes-reviews/prep/reviews_w_movies_full.csv...\n",
      "Created 500 review docs.\n",
      "  ✓ 500 review documents\n",
      "✓ Total: 883 reviews and plots documents\n",
      "\n",
      "2. Chunking with custom func...\n",
      "\n",
      "Chunking documents...\n",
      "Chunked 883 docs → 10114 chunks using 'sentence' strategy.\n",
      "\n",
      "Building base retriever...\n",
      "\n",
      "3. Building custom retriever...\n",
      "Loading embedding model: text-embedding-3-small (provider: openai)\n",
      "✓ Model loaded (dimension: 1536)\n",
      "✓ FaissDenseRetriever initialized (index_type=flat)\n",
      "Generating embeddings for 10114 documents...\n",
      "Embeddings generated\n",
      "Saving index...\n",
      "✓ Added 10114 documents to FAISS index\n",
      "  Index size: 10114\n",
      "\n",
      "4. Adding HyDE query transformation...\n",
      "✓ HyDERetriever initialized (model=gpt-4o-mini)\n",
      "\n",
      "5. Adding reranking: 20 → 5 docs...\n",
      "✓ LLMReranker initialized: gpt-4o-mini\n",
      "✓ Created LLM reranking retriever (top_k=5)\n",
      "\n",
      "5. Creating QA chain...\n",
      "\n",
      "============================================================\n",
      "✓ RAG Pipeline Built!\n",
      "============================================================\n"
     ]
    },
    {
     "name": "stderr",
     "output_type": "stream",
     "text": [
      "/Users/saghar/Desktop/movie-rag/src/langchain/retrieval/hyde.py:89: LangChainDeprecationWarning: The method `BaseChatModel.predict` was deprecated in langchain-core 0.1.7 and will be removed in 1.0. Use :meth:`~invoke` instead.\n",
      "  response = self.llm.predict(prompt_value)\n",
      "/Users/saghar/Desktop/movie-rag/src/langchain/retrieval/hyde.py:77: LangChainDeprecationWarning: The method `BaseRetriever.get_relevant_documents` was deprecated in langchain-core 0.1.46 and will be removed in 1.0. Use :meth:`~invoke` instead.\n",
      "  documents = self.base_retriever.get_relevant_documents(hypothetical_doc)\n"
     ]
    },
    {
     "name": "stdout",
     "output_type": "stream",
     "text": [
      "\n",
      "Strategy: RAG + HyDE + Reranking\n",
      "\n",
      "Query: recommend mind-bending sci-fi with great visuals\n",
      "\n",
      "Time: 17.16s\n",
      "\n",
      "Answer: For mind-bending sci-fi with great visuals, I recommend **Limitless**. It features stylized camerawork, vibrant colors, and a captivating soundtrack, making it visually appealing. While it has some imperfections, it offers an engaging performance by Bradley Cooper and a unique premise. \n",
      "\n",
      "Another option is **Transcendence**, which, despite its mixed reviews, is noted for its eye-catching imagery and imaginative style. However, be aware that it may not fully engage you throughout. \n",
      "\n",
      "If you're looking for a classic, **Alien** is also a great choice, known for its thrilling atmosphere and imaginative storytelling, though it leans more towards horror.\n",
      "\n",
      "Top 5 Retrieved:\n",
      "\n",
      "  hyde query: If you're seeking mind-bending sci-fi films that deliver not only intricate narratives but also stunning visuals, I highly recommend \"Inception\" (2010) directed by Christopher Nolan. This film masterfully explores the concept of shared dreaming and features a labyrinthine plot that keeps viewers engaged while challenging their perceptions of reality. The visual spectacle of \"Inception\" is unparalleled, with iconic sequences such as the gravity-defying fight scenes and the surreal manipulation of entire cityscapes that push the boundaries of imagination. Another exceptional choice is \"Interstellar\" (2014), also by Nolan, which takes audiences on a visually breathtaking journey through space and time, showcasing stunning depictions of black holes and distant galaxies, all while weaving a poignant tale about love and sacrifice. For a different flavor, \"2001: A Space Odyssey\" (1968) by Stanley Kubrick remains a timeless classic, known for its groundbreaking special effects and thought-provoking themes surrounding evolution and artificial intelligence. Lastly, the visually striking \"Annihilation\" (2018), directed by Alex Garland, offers a psychedelic exploration of an alien phenomenon that warps reality, featuring mesmerizing visuals that perfectly complement its existential themes. Each of these films not only captivates the eyes but also invites deep contemplation, making them essential viewing for anyone looking to dive into the world of mind-bending sci-fi.\n",
      "\n",
      "  Transcendence - 2014(initial score=-0.8908447027206421)\n",
      "\n",
      " content: Movie title: Transcendence\n",
      "\n",
      "Review: Nevertheless, Transcendence is superior to most other sci-fi films these days; it's briskly paced, consummately made and never boring. Puzzling and occasionally challenging it may be, but it's made with style and imagination.\n",
      "Review: Transcendence is a film where, when the world's first ever human brain upload doesn't work, the people responsible fix it by turning the computer off and on again.\n",
      "Review: With a script as loopy as this one, it pays to cast intelligent-looking actors. They can delude you into feeling as if you're watching something interesting.\n",
      "Review: With actors this good, we'll go almost anywhere, even unto that silliness.\n",
      "Review: The movie is rhythmless, shapeless, and, with the exception of a few shots, cheesy-looking....\n",
      "\n",
      "  rerank score: 0.600\n",
      "\n",
      "  Transcendence - 2014(initial score=-0.8936301469802856)\n",
      "\n",
      " content: Movie title: Transcendence\n",
      "\n",
      "Review: Best-ever depictions of artificial intelligence in the movies: the cyborgs and androids of 'Blade Runner.' Transcend 'Transcendence' by watching 'Blade Runner' on Blu-ray.\n",
      "Review: Well-made but just a bit muddy, Transcendence doesn't reach its goal height but looks good trying.\n",
      "Review: A relatively entertaining way to upload your consciousness for 119 minutes.\n",
      "Review: Pfister manages to put up one eye-catching image after another, yet never engages us for more than a moment.\n",
      "Review: We may spend years mulling over the source of Transcendence's missteps and shortcomings. Then again, we might casually forget the film ever existed a month after its release....\n",
      "\n",
      "  rerank score: 0.600\n",
      "\n",
      "  Limitless - 2011(initial score=-0.928392231464386)\n",
      "\n",
      " content: Movie title: Limitless\n",
      "\n",
      "Review: Director Neil Burger flaunts flair, with bursts of stylised Escher-esque camerawork (dig those speeding super-zooms), saturated colour and a euphoric soundtrack.\n",
      "Review: Featuring a charismatic leading man and interesting premise, Limitless is a viscerally appealing sci-fi thriller yet fails to tap into its vast potential.\n",
      "Review: There are imperfections but there is entertainment value in Limitless, not the least being Bradley Cooper's engaging central performance. There's a twist but it's not what you think and the visuals are fabulous\n",
      "Review: It's a gee-whizz novelty movie along the lines of Inception, with great effects and some visual wows.\n",
      "Review: Limitless just wants to give you a good time, and it does, yet the film leaves you wondering: Now that our world has been saturated with antidepressants, is this where big pharma strikes next?...\n",
      "\n",
      "  rerank score: 0.600\n",
      "\n",
      "  Alien - 1979(initial score=-0.9325839281082153)\n",
      "\n",
      " content: Movie title: Alien\n",
      "\n",
      "Review: ...a movie so good, so involving and so jolting that it not only takes is place among the great science fiction films of our time, but also the great thrillers.\n",
      "Review: A wondrous reminder of how imagination can triumph over budget.\n",
      "Review: Perfection pure and simple.\n",
      "Review: In an era where the horror genre has faded into a laughable mix of teen slashers and formulaic storylines, Alien provides a welcome nostalgic dose of authentic terror.\n",
      "Review: One of the finest examples of the scary sci-fi genre, with its sequel, Aliens, being the absolute best....\n",
      "\n",
      "  rerank score: 0.500\n",
      "\n",
      "  Transcendence - 2014(initial score=-0.948289155960083)\n",
      "\n",
      " content: Movie title: Transcendence\n",
      "\n",
      "Review: Depending on how the next few decades unfold, people will look back at Transcendence as either a prophetic or surreal piece of filmmaking.\n",
      "Review: Did Nolan choose Transcendence for Pfister as his very own Springtime for Hitler?\n",
      "Review: The ending fails to pack an emotional punch. But Pfister and Paglen have come up with something unusual - a sci-fi blockbuster that's genuinely surprising.\n",
      "Review: Never transcends into anything much.\n",
      "Review: A decade late and a dongle short....\n",
      "\n",
      "  rerank score: 0.500\n"
     ]
    }
   ],
   "source": [
    "print(\"=\"*60)\n",
    "print(\"RAG (HyDE + Reranking)\")\n",
    "print(\"=\"*60)\n",
    "\n",
    "# Build chain with all features\n",
    "full_chain = MovieRAGChain(\n",
    "    plots_path=PLOTS_PATH,\n",
    "    reviews_path=REVIEWS_PATH,\n",
    "    max_movies=MAX_MOVIES,\n",
    "    use_custom_retriever=True,\n",
    "    use_custom_chunk=True,\n",
    "    custom_prompt=ZERO_SHOT_QA_PROMPT,\n",
    "    k=5,\n",
    "    use_hyde=True,\n",
    "    hyde_model=\"gpt-4o-mini\",\n",
    "    use_reranking=True,\n",
    "    reranker_cfg={'type':'llm'},\n",
    "    initial_k=20, \n",
    ")\n",
    "\n",
    "full_chain.build()\n",
    "\n",
    "run(full_chain, \"recommend mind-bending sci-fi with great visuals\", \"RAG + HyDE + Reranking\")"
   ]
  },
  {
   "cell_type": "markdown",
   "id": "615efb80-3b18-46f6-8fed-2c8a2a5a9a8b",
   "metadata": {},
   "source": [
    "#### Wrapping with self-rag"
   ]
  },
  {
   "cell_type": "code",
   "execution_count": 5,
   "id": "7639f483-c3e2-46df-9394-d491ee338e82",
   "metadata": {},
   "outputs": [],
   "source": [
    "from src.langchain.chains.self_rag import SelfRAGWrapper"
   ]
  },
  {
   "cell_type": "code",
   "execution_count": 6,
   "id": "7b90ca5a-f16d-482a-9744-15ed1876658d",
   "metadata": {},
   "outputs": [],
   "source": [
    "self_rag_chain = SelfRAGWrapper(full_chain)"
   ]
  },
  {
   "cell_type": "code",
   "execution_count": 8,
   "id": "3bfa4fd1-3072-4fa5-a4df-bb4bd963aa0e",
   "metadata": {
    "scrolled": true
   },
   "outputs": [
    {
     "name": "stdout",
     "output_type": "stream",
     "text": [
      "\n",
      "============================================================\n",
      "Question: recommend mind-bending sci-fi with great visuals\n",
      "============================================================\n",
      "\n",
      "Initial answer:\n",
      "For mind-bending sci-fi with great visuals, I recommend **Akira**. It's noted for being \"easily the most breathtaking and kinetic anime ever made,\" offering a surreal experience that departs from the typical good vs. evil narrative. \n",
      "\n",
      "Another option is **Transcendence**, which, despite its mixed reviews, is described as \"well-made\" with \"eye-catching images.\" It explores themes of artificial intelligence and consciousness, making it a visually interesting choice, though it may not fully engage viewers. \n",
      "\n",
      "Both films provide unique visual experiences and thought-provoking concepts in the sci-fi genre.\n",
      "\n",
      "Critique: GOOD\n",
      "\n",
      "Answer is good, no refinement needed\n",
      "\n",
      "Strategy: self rag -> RAG + HyDE + Reranking\n",
      "\n",
      "Query: recommend mind-bending sci-fi with great visuals\n",
      "\n",
      "Time: 19.12s\n",
      "\n",
      "Answer: For mind-bending sci-fi with great visuals, I recommend **Akira**. It's noted for being \"easily the most breathtaking and kinetic anime ever made,\" offering a surreal experience that departs from the typical good vs. evil narrative. \n",
      "\n",
      "Another option is **Transcendence**, which, despite its mixed reviews, is described as \"well-made\" with \"eye-catching images.\" It explores themes of artificial intelligence and consciousness, making it a visually interesting choice, though it may not fully engage viewers. \n",
      "\n",
      "Both films provide unique visual experiences and thought-provoking concepts in the sci-fi genre.\n",
      "\n",
      "Top 5 Retrieved:\n",
      "\n",
      "  hyde query: If you're seeking mind-bending sci-fi films that are not only intellectually stimulating but also visually stunning, I highly recommend exploring \"Inception\" (2010) directed by Christopher Nolan. This film masterfully weaves a complex narrative about dreams within dreams, challenging viewers' perceptions of reality while showcasing breathtaking visuals that blur the lines between the dream world and the waking life. The visual effects, particularly the iconic bending cityscapes and gravity-defying action sequences, are both groundbreaking and mesmerizing. Another excellent choice is \"Blade Runner 2049\" (2017), directed by Denis Villeneuve, which serves as a sequel to the original \"Blade Runner.\" This film captivates with its stunning cinematography and atmospheric world-building, immersing the audience in a dystopian future that raises profound questions about humanity, identity, and consciousness. The visual aesthetic, marked by vivid colors and striking landscapes, complements the philosophical depth of the narrative. Lastly, consider \"Annihilation\" (2018), also directed by Alex Garland, which presents a surreal and visually arresting exploration of self-destruction and the unknown. The film's haunting imagery, combined with its thought-provoking themes, creates an immersive experience that lingers long after the credits roll. Each of these films not only pushes the boundaries of sci-fi storytelling but also delivers a feast for the eyes, making them must-watch entries for any enthusiast of the genre.\n",
      "\n",
      "  Akira - 2020(initial score=-0.9094011187553406)\n",
      "\n",
      " content: Movie title: Akira\n",
      "\n",
      "Review: While Akira's blood splattering is over the top for me, I did enjoy the surreal, and the interesting complicated departure from the often-oversimplified good vs. evil.\n",
      "Review: Brilliant visuals, murky story line make heralded sci-fi anime a confusing experience.\n",
      "Review: Grade-school violence freaks may find a few kicks here, but even they may have trouble coping with this ugly movie's ending about eight separate times.\n",
      "Review: Plenty of superb recent blockbusters, including The Matrix, The Dark Knight, Minority Report, Dark City and Inception, are all in its debt - not to mention a fair number of shockers, like Star Wars Episode II and the most recent Resident Evil atrocity.\n",
      "Review: Easily the most breathtaking and kinetic anime ever made....\n",
      "\n",
      "  rerank score: 0.700\n",
      "\n",
      "  Transcendence - 2014(initial score=-0.7473368644714355)\n",
      "\n",
      " content: Movie title: Transcendence\n",
      "\n",
      "Review: Best-ever depictions of artificial intelligence in the movies: the cyborgs and androids of 'Blade Runner.' Transcend 'Transcendence' by watching 'Blade Runner' on Blu-ray.\n",
      "Review: Well-made but just a bit muddy, Transcendence doesn't reach its goal height but looks good trying.\n",
      "Review: A relatively entertaining way to upload your consciousness for 119 minutes.\n",
      "Review: Pfister manages to put up one eye-catching image after another, yet never engages us for more than a moment.\n",
      "Review: We may spend years mulling over the source of Transcendence's missteps and shortcomings. Then again, we might casually forget the film ever existed a month after its release....\n",
      "\n",
      "  rerank score: 0.600\n",
      "\n",
      "  Transcendence - 2014(initial score=-0.845734715461731)\n",
      "\n",
      " content: Movie title: Transcendence\n",
      "\n",
      "Review: Nevertheless, Transcendence is superior to most other sci-fi films these days; it's briskly paced, consummately made and never boring. Puzzling and occasionally challenging it may be, but it's made with style and imagination.\n",
      "Review: Transcendence is a film where, when the world's first ever human brain upload doesn't work, the people responsible fix it by turning the computer off and on again.\n",
      "Review: With a script as loopy as this one, it pays to cast intelligent-looking actors. They can delude you into feeling as if you're watching something interesting.\n",
      "Review: With actors this good, we'll go almost anywhere, even unto that silliness.\n",
      "Review: The movie is rhythmless, shapeless, and, with the exception of a few shots, cheesy-looking....\n",
      "\n",
      "  rerank score: 0.600\n",
      "\n",
      "  Transcendence - 2014(initial score=-0.902612566947937)\n",
      "\n",
      " content: Movie title: Transcendence\n",
      "\n",
      "Review: Depending on how the next few decades unfold, people will look back at Transcendence as either a prophetic or surreal piece of filmmaking.\n",
      "Review: Did Nolan choose Transcendence for Pfister as his very own Springtime for Hitler?\n",
      "Review: The ending fails to pack an emotional punch. But Pfister and Paglen have come up with something unusual - a sci-fi blockbuster that's genuinely surprising.\n",
      "Review: Never transcends into anything much.\n",
      "Review: A decade late and a dongle short....\n",
      "\n",
      "  rerank score: 0.500\n",
      "\n",
      "  Transcendence - 2014(initial score=-0.8841146230697632)\n",
      "\n",
      " content: Movie title: Transcendence\n",
      "\n",
      "Review: In his first film as director, acclaimed cinematographer Wally Pfister (The Dark Knight Rises, Inception) has made a movie that predictably looks good but has little substance beneath its shiny, digitally enhanced surface.\n",
      "Review: Transcendence's main problem is that it feels like a film made by a computer -- it knows where all the beats and breaks of an action film have to go, but doesn't know why, exactly ...\n",
      "Review: It's the simple boy-girl connection between the popularly quirky Depp and the always lovely Hall that holds it all together.\n",
      "Review: Barely scratches the surface of the fascinating moral and scientific questions it hints at.\n",
      "Review: An ambitious and provocative piece of work that is intriguingly balanced between being a warning and a celebration....\n",
      "\n",
      "  rerank score: 0.400\n"
     ]
    }
   ],
   "source": [
    "run(self_rag_chain, \"recommend mind-bending sci-fi with great visuals\", \"self rag -> RAG + HyDE + Reranking\")"
   ]
  },
  {
   "cell_type": "code",
   "execution_count": 13,
   "id": "56d4729e-faee-40f7-9e9e-e9656dd27e0f",
   "metadata": {
    "scrolled": true
   },
   "outputs": [
    {
     "name": "stdout",
     "output_type": "stream",
     "text": [
      "\n",
      "============================================================\n",
      "Question: a good movie that is kind of crazy but isn't scary and can make me cry with that Spanish man acting in it\n",
      "============================================================\n",
      "\n",
      "Initial answer:\n",
      "Based on your description, \"Let the Sunshine In\" (Un beau soleil intérieur) might be a good fit. It features a complex emotional journey and explores themes of love and self-realization, which can evoke strong feelings. While it doesn't specifically feature a Spanish actor, it stars Juliette Binoche, who delivers a powerful performance that could resonate with you. The film is known for its emotional depth and sophisticated storytelling, making it a potential choice for a moving experience.\n",
      "\n",
      "Critique: BAD\n",
      "\n",
      "Refining using existing sources...\n",
      "\n",
      "Refined answer:\n",
      "Based on your description, I recommend \"Certified Copy\" (Copie Conforme) as a great choice. This film features the talented French actress Juliette Binoche, who delivers a nuanced performance that captures a range of emotions. \"Certified Copy\" explores complex themes of love and identity through the interactions of two characters who engage in deep conversations that reveal their emotional struggles. The film is known for its playful yet profound storytelling, showcasing a master filmmaker's artistry in a light-hearted manner, even amidst serious themes (Source 1).\n",
      "\n",
      "Another excellent option is \"Let the Sunshine In\" (Un beau soleil intérieur), which also stars Juliette Binoche. This film presents a sophisticated and modern take on romantic relationships, focusing on a woman's quest for love and self-realization. It features a rich emotional landscape, where Binoche's character navigates the complexities of her romantic life with a blend of humor and pathos. The film is described as an emotionally complex portrait that treats everyday anxieties with respect, making it a moving experience that can evoke tears (Sources 2, 3, and 5). \n",
      "\n",
      "Both films highlight Binoche's remarkable ability to convey inner turmoil and emotional depth, making them suitable choices for someone looking for a \"crazy\" yet heartfelt cinematic experience that isn't scary....\n"
     ]
    }
   ],
   "source": [
    "_ = self_rag_chain.query(\"a good movie that is kind of crazy but isn't scary and can make me cry with that Spanish man acting in it\")"
   ]
  },
  {
   "cell_type": "markdown",
   "id": "22d602c4-62a9-47bc-95e0-a83f7bcc886a",
   "metadata": {},
   "source": [
    "My conclusion: The task is quite easy. Hyde and rerank seem unnecessary (being fast is more important). Maybe self-critique isn't too bad to have though"
   ]
  },
  {
   "cell_type": "markdown",
   "id": "468f7c23-74b2-499d-86d1-510ac8f25d14",
   "metadata": {},
   "source": [
    "### RAGAS"
   ]
  },
  {
   "cell_type": "code",
   "execution_count": null,
   "id": "6866f952-9c15-4b2f-8e1b-c5b8095017b5",
   "metadata": {},
   "outputs": [],
   "source": [
    "from src.langchain.ragas import create_movie_test_set, evaluate_chain, print_results"
   ]
  },
  {
   "cell_type": "markdown",
   "id": "067c82a1-b8a2-4c03-a861-aa53d34145f8",
   "metadata": {},
   "source": [
    "Note: movie-specific questions depend on whether the movie was chosen to be in the 500 movies we have access to! Therefore I'm going to remove them"
   ]
  },
  {
   "cell_type": "code",
   "execution_count": 43,
   "id": "63f71228-79e0-4023-9fee-e081136ade2f",
   "metadata": {},
   "outputs": [],
   "source": [
    "def create_movie_test_set():\n",
    "    \"\"\"Movie-specific test questions with ground truth.\"\"\"\n",
    "    return [\n",
    "        {\n",
    "            \"question\": \"What makes Christopher Nolan's directing style unique?\",\n",
    "            \"ground_truth\": \"Nolan is known for non-linear storytelling, complex narratives, practical effects over CGI, philosophical themes about time and memory, and intricate puzzle-like plots that reward multiple viewings.\",\n",
    "            \"query_type\": \"analytical\"\n",
    "        },\n",
    "        {\n",
    "            \"question\": \"Recommend sci-fi movies with time travel themes\",\n",
    "            \"ground_truth\": \"Sci-fi movies with time travel include Primer (complex low-budget), 12 Monkeys (dystopian), Looper (action-focused), Interstellar (space-time), Back to the Future (classic), and The Terminator (action).\",\n",
    "            \"query_type\": \"recommendation\"\n",
    "        },\n",
    "        {\n",
    "            \"question\": \"Movies with twist endings?\",\n",
    "            \"ground_truth\": \"Movies with twist endings include The Sixth Sense, Fight Club, and Shutter Island.\",\n",
    "            \"query_type\": \"recommendation\"\n",
    "        },\n",
    "        {\n",
    "            \"question\": \"Compare Tarantino and Scorsese's directing styles\",\n",
    "            \"ground_truth\": \"Tarantino is known for non-linear narratives, stylized violence, pop culture references, and sharp dialogue. Scorsese focuses on character studies, moral complexity, crime dramas, and masterful use of music and editing.\",\n",
    "            \"query_type\": \"comparison\"\n",
    "        },\n",
    "        {\n",
    "            \"question\": \"Recommend coming of age movies about love, poverty, and friendships growing apart\",\n",
    "            \"ground_truth\": \"Coming of age movies with these themes include Moonlight (explores identity, love, and poverty in three chapters), City of God (Brazilian favela, friendship torn by crime and poverty), Stand By Me (childhood friendships that drift apart over time), The Florida Project (childhood innocence against backdrop of poverty), The Outsiders (class divisions and friendship bonds), and Lady Bird (navigating relationships while dealing with family financial struggles). These films authentically portray how economic hardship and life circumstances can strain friendships while young people navigate first love.\",\n",
    "            \"query_type\": \"recommendation\"\n",
    "        }\n",
    "    ]"
   ]
  },
  {
   "cell_type": "markdown",
   "id": "affffd05-2d46-429e-8123-dfc2965eaff0",
   "metadata": {},
   "source": [
    "Let's evaluate an easy chain"
   ]
  },
  {
   "cell_type": "code",
   "execution_count": 60,
   "id": "827dc8f7-9f3e-480b-9f55-6437a409b2ae",
   "metadata": {
    "collapsed": true,
    "jupyter": {
     "outputs_hidden": true
    }
   },
   "outputs": [
    {
     "name": "stdout",
     "output_type": "stream",
     "text": [
      "✓ MovieRAGChain initialized\n",
      "  Retriever type: custom\n",
      "  LLM: gpt-4o-mini\n",
      "\n",
      "============================================================\n",
      "Building RAG Pipeline\n",
      "============================================================\n",
      "\n",
      "1. Loading documents...\n",
      "Limiting to 500 movies\n",
      "Loading plots from /Users/saghar/Desktop/movie-rag/datasets/rotten-tomatoes-reviews/prep/movie_plots.csv...\n",
      "Created 383 plot docs.\n",
      "  ✓ 383 plot documents\n",
      "Loading reviews from /Users/saghar/Desktop/movie-rag/datasets/rotten-tomatoes-reviews/prep/reviews_w_movies_full.csv...\n",
      "Created 500 review docs.\n",
      "  ✓ 500 review documents\n",
      "✓ Total: 883 reviews and plots documents\n",
      "\n",
      "2. Chunking with custom func...\n",
      "\n",
      "Chunking documents...\n",
      "Chunked 883 docs → 10114 chunks using 'sentence' strategy.\n",
      "\n",
      "Building base retriever...\n",
      "\n",
      "3. Building custom retriever...\n",
      "Loading embedding model: text-embedding-3-small (provider: openai)\n",
      "✓ Model loaded (dimension: 1536)\n",
      "✓ FaissDenseRetriever initialized (index_type=flat)\n",
      "Generating embeddings for 10114 documents...\n",
      "Embeddings generated\n",
      "Saving index...\n",
      "✓ Added 10114 documents to FAISS index\n",
      "  Index size: 10114\n",
      "\n",
      "5. Creating QA chain...\n",
      "\n",
      "============================================================\n",
      "✓ RAG Pipeline Built!\n",
      "============================================================\n"
     ]
    },
    {
     "data": {
      "text/plain": [
       "<src.langchain.chains.movie_rag.MovieRAGChain at 0x3002beab0>"
      ]
     },
     "execution_count": 60,
     "metadata": {},
     "output_type": "execute_result"
    }
   ],
   "source": [
    "# Build basic chain\n",
    "basic_chain = MovieRAGChain(\n",
    "    plots_path=PLOTS_PATH,\n",
    "    reviews_path=REVIEWS_PATH,\n",
    "    max_movies=MAX_MOVIES,\n",
    "    use_custom_retriever=True,\n",
    "    use_custom_chunk=True,\n",
    "    custom_prompt=ZERO_SHOT_QA_PROMPT,\n",
    "    k=5,\n",
    "    use_hyde=False,\n",
    "    use_reranking=False,\n",
    ")\n",
    "\n",
    "basic_chain.build()"
   ]
  },
  {
   "cell_type": "code",
   "execution_count": 65,
   "id": "a3088671-9fc5-45d6-bee3-5cacfdfba846",
   "metadata": {},
   "outputs": [
    {
     "name": "stdout",
     "output_type": "stream",
     "text": [
      "============================================================\n",
      "Evaluating basic chain\n",
      "============================================================\n",
      "Running chain on test set...\n",
      "  [1/5] What makes Christopher Nolan's directing style unique?\n",
      "answer:The provided information does not include any details about Christopher Nolan's directing style. Therefore, I cannot answer your question based on the available information....\n",
      "contexts:[\"Movie title: Mission to Mars\\n\\nReview: It's hardly an original movie ... But its cinematography is li\", \"Movie title: Control\\n\\nReview: On a certain level, Corbijn's approach to filmmaking reminds me of Gus\", 'Movie title: Heat\\n\\nReview: Ominous, operatic, often emulated but never equaled. This is go-for-broke', 'Movie title: Transcendence\\n\\nReview: In his first film as director, acclaimed cinematographer Wally P', \"Movie title: Collateral\\n\\nReview: ... first and foremost a director's movie ... [one] that shows off \"]...\n",
      "  [2/5] Recommend sci-fi movies with time travel themes\n",
      "answer:I recommend the following sci-fi movies with time travel themes:\n",
      "\n",
      "1. **Time After Time** (1979) - Directed by Nicholas Meyer, this film features H.G. Wells using his time machine to pursue Jack the Ripper in modern-day London. It blends action, adventure, comedy, and romance, and has received positi...\n",
      "contexts:['Movie title: Time After Time\\nRelease year: 1979\\nDirectors: Nicholas Meyer\\nGenres: Action & Adventure', 'Movie title: Time After Time\\n\\nReview: Every once in a while, there comes a time travel film with bra', 'Movie title: The Time Machine\\nRelease year: 1960\\nDirectors: George Pal\\nGenres: Action & Adventure, C', 'Movie title: The Time Machine\\n\\nReview: Seen today, The Time Machine remains a reasonably elaborate a', \"Movie title: Time After Time\\n\\nReview: Writer Nicholas Meyer's 1979 directorial debut is probably sti\"]...\n",
      "  [3/5] Movies with twist endings?\n",
      "answer:Here are some movies with twist endings based on the provided information:\n",
      "\n",
      "1. **The Secret in Their Eyes** - This film is noted for its surprise, credible ending that many viewers did not see coming.\n",
      "2. **Dot the I** - It features a significant twist in the third act that changes the audience's und...\n",
      "contexts:['Movie title: The Secret in Their Eyes (El Secreto de Sus Ojos)\\n\\nReview: Masterful thriller crammed w', 'Movie title: The Number 23\\n\\nReview: I think that \"The Number 23\" is supposed to have a twist at the ', 'Movie title: Dot the I\\n\\nReview: Far too clever for his own good, Parkhill has fashioned a Chinese bo', 'Movie title: Glass\\n\\nReview: A very well-done movie, it comes down to whether or not you like the end', 'Movie title: Martha Marcy May Marlene\\n\\nReview: The non-ending turns the whole movie into an elaborat']...\n",
      "  [4/5] Compare Tarantino and Scorsese's directing styles\n",
      "answer:The provided information does not contain a direct comparison of Quentin Tarantino and Martin Scorsese's directing styles. However, it does mention that Tarantino shows an infatuation with Scorsese's work, suggesting he may draw inspiration from Scorsese's techniques. Tarantino's style in \"Reservoir...\n",
      "contexts:['Movie title: Reservoir Dogs\\n\\nReview: Tarentino has the craft down but lacks the depth and moral wisd', \"Movie title: Reservoir Dogs\\n\\nReview: Structurally, Tarantino may have borrowed from Kubrick's crimer\", \"Movie title: Reservoir Dogs\\n\\nReview: The movie feels like it's going to be terrific, but Tarantino's\", \"Movie title: Reservoir Dogs\\n\\nReview: Reservoir Dogs is a bad boy's movie, show-offy and more than a \", \"Movie title: Reservoir Dogs\\n\\nReview: Tarantino's palpable enthusiasm, his unapologetic passion for w\"]...\n",
      "  [5/5] Recommend coming of age movies about love, poverty, and friendships growing apart\n",
      "answer:Based on the provided information, I recommend the following coming-of-age movies that touch on themes of love, poverty, and friendships growing apart:\n",
      "\n",
      "1. **The Wackness** - This film explores the journey of a white teenage drug dealer and his relationships, offering a tender coming-of-age story th...\n",
      "contexts:['Movie title: The Wackness\\n\\nReview: A surprisingly tender coming of age film about a white teenage dr', 'Movie title: Little Manhattan\\n\\nReview: It begins to wear a little thin in a feature format.\\nReview: ', 'Movie title: Two Lovers\\n\\nReview: A custom fit character for edgy Joaquin, a laundry drone who gets t', 'Movie title: The Debut\\n\\nReview: A universal coming-of-age story as illuminating as it is entertainin', \"Movie title: Little Manhattan\\n\\nReview: Delightful look at two kids' first romance.\\nReview: Reliving \"]...\n"
     ]
    },
    {
     "data": {
      "application/vnd.jupyter.widget-view+json": {
       "model_id": "6908c6beaefa483fb3d6ce79c9313b7f",
       "version_major": 2,
       "version_minor": 0
      },
      "text/plain": [
       "Evaluating:   0%|          | 0/10 [00:00<?, ?it/s]"
      ]
     },
     "metadata": {},
     "output_type": "display_data"
    },
    {
     "name": "stdout",
     "output_type": "stream",
     "text": [
      "\n",
      "============================================================\n",
      "RAGAS EVALUATION RESULTS\n",
      "============================================================\n",
      "\n",
      "Scores:\n",
      "  Faithfulness:      [1.0, 1.0, 0.8888888888888888, 0.75, 0.7777777777777778]\n",
      "  Answer Relevancy:  [np.float64(0.0), np.float64(0.9749786110846346), np.float64(0.9698494710799194), np.float64(0.0), np.float64(0.9555845319613662)]\n"
     ]
    }
   ],
   "source": [
    "print(\"=\"*60)\n",
    "print(\"Evaluating basic chain\")\n",
    "print(\"=\"*60)\n",
    "test_set = create_movie_test_set()\n",
    "scores = evaluate_chain(basic_chain, test_set)\n",
    "print_results(scores)"
   ]
  },
  {
   "cell_type": "code",
   "execution_count": 66,
   "id": "51966500-8cf4-4c02-bbdd-211fde03c33b",
   "metadata": {},
   "outputs": [
    {
     "name": "stdout",
     "output_type": "stream",
     "text": [
      "============================================================\n",
      "Evaluating full chain (hyde + reranking)\n",
      "============================================================\n",
      "Running chain on test set...\n",
      "  [1/5] What makes Christopher Nolan's directing style unique?\n",
      "answer:The provided information does not include specific details about Christopher Nolan's directing style. It primarily discusses the film \"Transcendence,\" directed by Wally Pfister, and does not elaborate on Nolan's unique qualities as a director. Therefore, I cannot answer your question based on the av...\n",
      "contexts:['Movie title: Transcendence\\n\\nReview: Depending on how the next few decades unfold, people will look b', 'Movie title: Transcendence\\n\\nReview: In his first film as director, acclaimed cinematographer Wally P', 'Movie title: Limitless\\n\\nReview: The cinematic equivalent of a meal high in calories and low in nutri', \"Movie title: Collateral\\n\\nReview: Mann is not a playwright who films his work. He's an instinctive vi\", \"Movie title: Transcendence\\n\\nReview: I've always maintained that even the best actors cannot bring li\"]...\n",
      "  [2/5] Recommend sci-fi movies with time travel themes\n",
      "answer:I recommend the following sci-fi movies with time travel themes:\n",
      "\n",
      "1. **Time After Time (1979)** - This film features H.G. Wells pursuing Jack the Ripper through time, blending action, adventure, and romance with clever storytelling.\n",
      "\n",
      "2. **The Time Machine (1960)** - A classic that explores time trav...\n",
      "contexts:['Movie title: Time After Time\\nRelease year: 1979\\nDirectors: Nicholas Meyer\\nGenres: Action & Adventure', 'Movie title: The Time Machine\\n\\nReview: Seen today, The Time Machine remains a reasonably elaborate a', 'Movie title: Time After Time\\n\\nReview: Every once in a while, there comes a time travel film with bra', 'Movie title: The Time Machine\\n\\nReview: The effects work throughout the film is truly special (the fi', 'Movie title: Project Almanac\\n\\nReview: As a blueprint for newcomers to the time travel corner of sci-']...\n",
      "  [3/5] Movies with twist endings?\n",
      "answer:Movies with twist endings include **The Secret in Their Eyes**, which features a surprise, credible ending that reviewers did not see coming. **Dot the I** is noted for its unpredictable third-act twist that negates everything that has come before it, reminiscent of films like **The Sixth Sense**. A...\n",
      "contexts:['Movie title: The Secret in Their Eyes (El Secreto de Sus Ojos)\\n\\nReview: Masterful thriller crammed w', 'Movie title: Dot the I\\n\\nReview: Far too clever for his own good, Parkhill has fashioned a Chinese bo', 'Movie title: Glass\\n\\nReview: For diehard fans hoping for a signature twist (or two), the payoff is pr', 'Movie title: Foxcatcher\\n\\nReview: If on the surface this is a story about men seeking intimacy throug', 'Movie title: Glass\\n\\nReview: The movie\\'s tag line is \"Real villains are among us. Real heroes are wit']...\n",
      "  [4/5] Compare Tarantino and Scorsese's directing styles\n",
      "answer:Quentin Tarantino's directing style, as seen in \"Reservoir Dogs,\" is characterized by a strong emphasis on dialogue, anticipation-building, and a unique approach to storytelling that often includes flashbacks and non-linear narratives. He showcases a flair for writing and directing, drawing exceptio...\n",
      "contexts:['Movie title: Reservoir Dogs\\n\\nReview: Tarentino has the craft down but lacks the depth and moral wisd', \"Movie title: Reservoir Dogs\\n\\nReview: Structurally, Tarantino may have borrowed from Kubrick's crimer\", \"Movie title: Gangs of New York\\n\\nReview: It's a story of such relevance to New York, to America and e\", 'Movie title: Gangs of New York\\n\\nReview: As you watch it unfold, you find yourself understanding exac', 'Movie title: Gangs of New York\\n\\nReview: The world needs more filmmakers with passionate enthusiasms ']...\n",
      "  [5/5] Recommend coming of age movies about love, poverty, and friendships growing apart\n",
      "answer:Based on the provided information, I recommend the following coming-of-age movies:\n",
      "\n",
      "1. **The Debut** - This film is described as a universal coming-of-age story that explores family dynamics and features a strong cast, making it relatable to its audience.\n",
      "\n",
      "2. **Before I Fall** - While it primarily f...\n",
      "contexts:['Movie title: The Debut\\n\\nReview: A universal coming-of-age story as illuminating as it is entertainin', 'Movie title: Before I Fall\\n\\nReview: Instead of playing up the wackiness of a repetitive day or divid', 'Movie title: The Body Remembers When the World Broke Open\\n\\nReview: The filmmakers leave much to our ', 'Movie title: Trust\\n\\nReview: This theme is well-drawn, and the film plays out with great intensity as', 'Movie title: Before I Fall\\n\\nReview: Being spineless is its own form of evil, yet Russo-Young makes S']...\n"
     ]
    },
    {
     "data": {
      "application/vnd.jupyter.widget-view+json": {
       "model_id": "a8207bfde153411a80086f2eebaa6b42",
       "version_major": 2,
       "version_minor": 0
      },
      "text/plain": [
       "Evaluating:   0%|          | 0/10 [00:00<?, ?it/s]"
      ]
     },
     "metadata": {},
     "output_type": "display_data"
    },
    {
     "name": "stdout",
     "output_type": "stream",
     "text": [
      "\n",
      "============================================================\n",
      "RAGAS EVALUATION RESULTS\n",
      "============================================================\n",
      "\n",
      "Scores:\n",
      "  Faithfulness:      [1.0, 0.8461538461538461, 1.0, 0.8823529411764706, 0.7058823529411765]\n",
      "  Answer Relevancy:  [np.float64(0.0), np.float64(0.9749805168489232), np.float64(0.9783818627841634), np.float64(0.9464787211704856), np.float64(0.9140418491582442)]\n"
     ]
    }
   ],
   "source": [
    "print(\"=\"*60)\n",
    "print(\"Evaluating full chain (hyde + reranking)\")\n",
    "print(\"=\"*60)\n",
    "scores = evaluate_chain(full_chain, test_set)\n",
    "print_results(scores)"
   ]
  },
  {
   "cell_type": "code",
   "execution_count": 67,
   "id": "b1b919be-b915-4ccd-a015-a02e68a09c3c",
   "metadata": {},
   "outputs": [
    {
     "name": "stdout",
     "output_type": "stream",
     "text": [
      "============================================================\n",
      "Evaluating self-rag, full chain (hyde + reranking)\n",
      "============================================================\n",
      "Running chain on test set...\n",
      "  [1/5] What makes Christopher Nolan's directing style unique?\n",
      "\n",
      "============================================================\n",
      "Question: What makes Christopher Nolan's directing style unique?\n",
      "============================================================\n",
      "\n",
      "Initial answer:\n",
      "The provided information does not specifically address Christopher Nolan's directing style. However, it does mention that Wally Pfister, who directed \"Transcendence,\" worked with Nolan on films like \"The Dark Knight Rises\" and \"Inception,\" suggesting a connection in visual style. For a detailed understanding of Nolan's unique directing style, additional information would be needed.\n",
      "\n",
      "Critique: BAD\n",
      "\n",
      "Refining using existing sources...\n",
      "\n",
      "Refined answer:\n",
      "Christopher Nolan's directing style is characterized by several unique elements that set him apart from other filmmakers. While the provided sources do not directly analyze Nolan's work, they do highlight aspects of his collaborations with cinematographer Wally Pfister, who worked on films like \"The Dark Knight Rises\" and \"Inception.\" This connection suggests that Nolan's visual style is marked by a strong emphasis on cinematography, which is often described as striking and innovative.\n",
      "\n",
      "Nolan is known for his ability to blend complex narratives with emotional depth, creating films that challenge viewers intellectually while also engaging them on a personal level. His storytelling often involves non-linear timelines and intricate plots, which require the audience to actively piece together the narrative. This approach contrasts with films like \"Transcendence,\" directed by Pfister, which, despite its visual appeal, has been criticized for lacking substance and emotional resonance.\n",
      "\n",
      "Moreover, Nolan's films frequently explore profound moral and philosophical questions, a trait that can be seen in the ambitious themes of his work. For instance, while \"Transcendence\" hints at fascinating moral dilemmas, it ultimately fails to delve deeply into them, highlighting a distinction between Nolan's depth of exploration and Pfister's directorial approach.\n",
      "\n",
      "In summary, Christopher Nolan's directing style is unique due to his focus on intricate storytelling, emotional engagement, and a visually striking aesthetic, often enhanced by his collaboration with talented cinematographers like Wally Pfister. This combination results in films that are not only visually captivating but also rich in thematic complexity....\n",
      "answer:Christopher Nolan's directing style is characterized by several unique elements that set him apart from other filmmakers. While the provided sources do not directly analyze Nolan's work, they do highlight aspects of his collaborations with cinematographer Wally Pfister, who worked on films like \"The...\n",
      "contexts:['Movie title: Transcendence\\n\\nReview: Depending on how the next few decades unfold, people will look b', 'Movie title: Transcendence\\n\\nReview: In his first film as director, acclaimed cinematographer Wally P', 'Movie title: Limitless\\n\\nReview: The cinematic equivalent of a meal high in calories and low in nutri', 'Movie title: Collateral\\n\\nReview: I got actual, physical chills, not just because the movie is nifty-', \"Movie title: Collateral\\n\\nReview: Mann is not a playwright who films his work. He's an instinctive vi\"]...\n",
      "  [2/5] Recommend sci-fi movies with time travel themes\n",
      "\n",
      "============================================================\n",
      "Question: Recommend sci-fi movies with time travel themes\n",
      "============================================================\n",
      "\n",
      "Initial answer:\n",
      "I recommend the following sci-fi movies with time travel themes:\n",
      "\n",
      "1. **Time After Time (1979)** - This film features H.G. Wells pursuing Jack the Ripper through time, blending action, adventure, and romance with clever storytelling.\n",
      "\n",
      "2. **The Time Machine (1960)** - A classic that explores time travel with impressive production values and special effects, though it simplifies some of H.G. Wells' original themes.\n",
      "\n",
      "3. **Project Almanac (2015)** - A modern take on time travel told through a found footage format, it offers a gripping story despite some flaws in execution.\n",
      "\n",
      "These films each provide unique perspectives on time travel and are worth watching for fans of the genre.\n",
      "\n",
      "Critique: GOOD\n",
      "\n",
      "Answer is good, no refinement needed\n",
      "answer:I recommend the following sci-fi movies with time travel themes:\n",
      "\n",
      "1. **Time After Time (1979)** - This film features H.G. Wells pursuing Jack the Ripper through time, blending action, adventure, and romance with clever storytelling.\n",
      "\n",
      "2. **The Time Machine (1960)** - A classic that explores time trav...\n",
      "contexts:['Movie title: Time After Time\\nRelease year: 1979\\nDirectors: Nicholas Meyer\\nGenres: Action & Adventure', 'Movie title: The Time Machine\\n\\nReview: Seen today, The Time Machine remains a reasonably elaborate a', 'Movie title: Time After Time\\n\\nReview: Every once in a while, there comes a time travel film with bra', 'Movie title: The Time Machine\\n\\nReview: The effects work throughout the film is truly special (the fi', 'Movie title: Project Almanac\\n\\nReview: As a blueprint for newcomers to the time travel corner of sci-']...\n",
      "  [3/5] Movies with twist endings?\n",
      "\n",
      "============================================================\n",
      "Question: Movies with twist endings?\n",
      "============================================================\n",
      "\n",
      "Initial answer:\n",
      "Movies with twist endings include **The Secret in Their Eyes**, which features a surprise, credible ending that reviewers did not see coming. **Dot the I** is noted for its unpredictable third-act twist that negates everything that has come before it, reminiscent of the twist in **The Sixth Sense**. Additionally, **Glass** offers a payoff for diehard fans hoping for signature twists, although it has been described as an anti-climax.\n",
      "\n",
      "Critique: GOOD\n",
      "\n",
      "Answer is good, no refinement needed\n",
      "answer:Movies with twist endings include **The Secret in Their Eyes**, which features a surprise, credible ending that reviewers did not see coming. **Dot the I** is noted for its unpredictable third-act twist that negates everything that has come before it, reminiscent of the twist in **The Sixth Sense**....\n",
      "contexts:['Movie title: The Secret in Their Eyes (El Secreto de Sus Ojos)\\n\\nReview: Masterful thriller crammed w', 'Movie title: Dot the I\\n\\nReview: Far too clever for his own good, Parkhill has fashioned a Chinese bo', 'Movie title: Glass\\n\\nReview: For diehard fans hoping for a signature twist (or two), the payoff is pr', 'Movie title: Foxcatcher\\n\\nReview: If on the surface this is a story about men seeking intimacy throug', 'Movie title: Glass\\n\\nReview: The movie\\'s tag line is \"Real villains are among us. Real heroes are wit']...\n",
      "  [4/5] Compare Tarantino and Scorsese's directing styles\n",
      "\n",
      "============================================================\n",
      "Question: Compare Tarantino and Scorsese's directing styles\n",
      "============================================================\n",
      "\n",
      "Initial answer:\n",
      "Quentin Tarantino's directing style, as seen in \"Reservoir Dogs,\" is characterized by a strong emphasis on dialogue, clever structuring, and a unique blend of violence with dark humor. He builds anticipation and often cuts away from climactic moments, showcasing his ability to manipulate audience expectations. His debut film is noted for its brilliant writing and acting, capturing themes of masculinity and paranoia.\n",
      "\n",
      "In contrast, Martin Scorsese's style, exemplified in \"Gangs of New York,\" is marked by a focus on thematic depth, political commentary, and a strong visual style. While he demonstrates mastery in crafting scenes and editing, some critiques suggest that \"Gangs of New York\" lacks a unified vision and becomes a formulaic revenge saga. Scorsese's films often explore complex themes like violence, revenge, and class struggle, but in this case, the execution has been seen as uneven.\n",
      "\n",
      "Overall, Tarantino leans towards stylized dialogue and character-driven narratives, while Scorsese emphasizes thematic exploration and visual storytelling, though both are recognized as influential filmmakers in modern cinema.\n",
      "\n",
      "Critique: GOOD\n",
      "\n",
      "Answer is good, no refinement needed\n",
      "answer:Quentin Tarantino's directing style, as seen in \"Reservoir Dogs,\" is characterized by a strong emphasis on dialogue, clever structuring, and a unique blend of violence with dark humor. He builds anticipation and often cuts away from climactic moments, showcasing his ability to manipulate audience ex...\n",
      "contexts:['Movie title: Reservoir Dogs\\n\\nReview: Tarentino has the craft down but lacks the depth and moral wisd', 'Movie title: Gangs of New York\\n\\nReview: As you watch it unfold, you find yourself understanding exac', \"Movie title: Reservoir Dogs\\n\\nReview: Structurally, Tarantino may have borrowed from Kubrick's crimer\", \"Movie title: Gangs of New York\\n\\nReview: It's a story of such relevance to New York, to America and e\", 'Movie title: Gangs of New York\\n\\nReview: The world needs more filmmakers with passionate enthusiasms ']...\n",
      "  [5/5] Recommend coming of age movies about love, poverty, and friendships growing apart\n",
      "\n",
      "============================================================\n",
      "Question: Recommend coming of age movies about love, poverty, and friendships growing apart\n",
      "============================================================\n",
      "\n",
      "Initial answer:\n",
      "Based on the provided information, I recommend the following coming-of-age movies that touch on themes of love, poverty, and friendships growing apart:\n",
      "\n",
      "1. **The Wackness** - This film explores the friendship between a lonely teenage drug dealer and a therapist, highlighting the complexities of relationships and the emotional journey of growing up during a summer filled with nostalgia and self-discovery.\n",
      "\n",
      "2. **Before I Fall** - While it primarily focuses on friendships and personal growth, it also delves into the moral complexities of youth and the importance of appreciating those around you, making it relevant to themes of love and the challenges of growing up.\n",
      "\n",
      "Both films offer unique perspectives on the coming-of-age experience, though they may not directly address poverty, they do explore the emotional landscapes of youth and relationships.\n",
      "\n",
      "Critique: BAD\n",
      "\n",
      "Refining using existing sources...\n",
      "\n",
      "Refined answer:\n",
      "Based on the provided information, I recommend the following coming-of-age movies that explore themes of love, poverty, and friendships growing apart:\n",
      "\n",
      "1. **The Wackness** - This film presents a surprisingly tender coming-of-age story centered around a lonely teenage drug dealer, played by Josh Peck, who forms an unusual friendship with a therapist experiencing a mid-life crisis. Set during a transformative summer, the film captures the emotional complexities of youth and the bittersweet nature of growing up. The characters navigate their personal struggles, making the story relatable and emotionally satisfying. The film's charm and nostalgic undertones resonate with audiences, as it reflects on the last summer of childhood and the challenges of transitioning into adulthood. It won the Audience Award at the 2008 Sundance Film Festival, highlighting its appeal and depth.\n",
      "\n",
      "2. **Before I Fall** - This film offers a unique take on the coming-of-age genre by focusing on the fragility and strength of youthful friendships. The story follows Samantha, a mean girl who experiences a time loop, forcing her to relive the same day repeatedly. Through this experience, she learns valuable lessons about kindness, the importance of appreciating those around her, and the moral complexities of her actions. While the film has been critiqued for its lack of depth in exploring these themes, it does provide a thought-provoking narrative about personal growth and the dynamics of friendships. The film's messages about anti-bullying and self-reflection resonate with a younger audience, making it relevant to the coming-of-age experience.\n",
      "\n",
      "Both films offer distinct perspectives on the challenges of growing up, love, and the evolution of friendships, making them worthwhile recommendations for anyone interested in these themes....\n",
      "answer:Based on the provided information, I recommend the following coming-of-age movies that explore themes of love, poverty, and friendships growing apart:\n",
      "\n",
      "1. **The Wackness** - This film presents a surprisingly tender coming-of-age story centered around a lonely teenage drug dealer, played by Josh Peck...\n",
      "contexts:['Movie title: The Debut\\n\\nReview: A universal coming-of-age story as illuminating as it is entertainin', 'Movie title: The Wackness\\n\\nReview: A surprisingly tender coming of age film about a white teenage dr', 'Movie title: Before I Fall\\n\\nReview: Instead of playing up the wackiness of a repetitive day or divid', \"Movie title: The Wackness\\n\\nReview: The film's forlorn charm is a little reminiscent of Cameron Crowe\", 'Movie title: Before I Fall\\n\\nReview: Being spineless is its own form of evil, yet Russo-Young makes S']...\n"
     ]
    },
    {
     "data": {
      "application/vnd.jupyter.widget-view+json": {
       "model_id": "2d36de8d6178475b8a5a2baace25ac1c",
       "version_major": 2,
       "version_minor": 0
      },
      "text/plain": [
       "Evaluating:   0%|          | 0/10 [00:00<?, ?it/s]"
      ]
     },
     "metadata": {},
     "output_type": "display_data"
    },
    {
     "name": "stdout",
     "output_type": "stream",
     "text": [
      "\n",
      "============================================================\n",
      "RAGAS EVALUATION RESULTS\n",
      "============================================================\n",
      "\n",
      "Scores:\n",
      "  Faithfulness:      [0.16666666666666666, 0.9230769230769231, 1.0, 1.0, 0.75]\n",
      "  Answer Relevancy:  [np.float64(0.9704492160679127), np.float64(0.9749885841397106), np.float64(0.9695695275407932), np.float64(0.9464787211704856), np.float64(0.9601143922522034)]\n"
     ]
    }
   ],
   "source": [
    "print(\"=\"*60)\n",
    "print(\"Evaluating self-rag, full chain (hyde + reranking)\")\n",
    "print(\"=\"*60)\n",
    "scores = evaluate_chain(self_rag_chain, test_set)\n",
    "print_results(scores)"
   ]
  },
  {
   "cell_type": "markdown",
   "id": "35862785-c57b-4f65-99c0-ec8d9c34505f",
   "metadata": {},
   "source": [
    "#### Conclusions:\n",
    "\n",
    "1- I was not able to get correct context precision and recall from RAGAS (I wonder why. Are my contexts too hard to understand?)\n",
    "\n",
    "2- As I guessed, basic chain is enough to get a good performance (hyde and reranking made 1 answer better, from unknown to an answer)\n",
    "\n",
    "3- Self-rag was able to change another answer from unknown to an answer, however in the answer it did not use context (cause it doesn't exist) and it used its own generative abilities."
   ]
  }
 ],
 "metadata": {
  "kernelspec": {
   "display_name": "Python 3 (ipykernel)",
   "language": "python",
   "name": "python3"
  },
  "language_info": {
   "codemirror_mode": {
    "name": "ipython",
    "version": 3
   },
   "file_extension": ".py",
   "mimetype": "text/x-python",
   "name": "python",
   "nbconvert_exporter": "python",
   "pygments_lexer": "ipython3",
   "version": "3.12.11"
  }
 },
 "nbformat": 4,
 "nbformat_minor": 5
}
