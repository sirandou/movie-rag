{
 "cells": [
  {
   "cell_type": "markdown",
   "id": "ddc66e8d-8344-4924-a78a-4bedba6d8ea6",
   "metadata": {},
   "source": [
    "## Full multi-modal chain"
   ]
  },
  {
   "cell_type": "code",
   "execution_count": 8,
   "id": "35cd39ff2702c66a",
   "metadata": {},
   "outputs": [],
   "source": [
    "from src.langchain.chains.movie_rag import MovieRAGChain\n",
    "from src. langchain.loaders import MoviePosterDocumentLoader\n",
    "from src.retrievers.visual_retriever import VisualRetriever"
   ]
  },
  {
   "cell_type": "markdown",
   "id": "51be2a05-1190-4d60-89ee-4ba435c6db9e",
   "metadata": {},
   "source": [
    "### Building visual retriever"
   ]
  },
  {
   "cell_type": "code",
   "execution_count": 10,
   "id": "70563179-8ff7-4a0d-9f96-77ee2fbf277b",
   "metadata": {},
   "outputs": [
    {
     "name": "stdout",
     "output_type": "stream",
     "text": [
      "\n",
      "============================================================\n",
      "Visual Retriever\n",
      "============================================================\n",
      "Loaded 6431 posters\n",
      "Created 6079 poster docs.\n",
      "Loading CLIP model: ViT-B/32\n",
      "✓ CLIP loaded on cpu\n",
      "✓ VisualRetriever (text_fusion=True, method=weight_average)\n",
      "  Alpha: 0.8 (image=0.8, text=0.2)\n",
      "Encoding 1000 posters with CLIP...\n",
      "Encoding 1000 text descriptions with CLIP...\n",
      "✓ Fused embeddings using weight_average method (dim=512)\n",
      "✓ Added 1000 posters to index\n"
     ]
    }
   ],
   "source": [
    "print(\"\\n\" + \"=\"*60)\n",
    "print(\"Visual Retriever\")\n",
    "print(\"=\"*60)\n",
    "\n",
    "poster_loader = MoviePosterDocumentLoader('/Users/saghar/Desktop/movie-rag/datasets/rotten-tomatoes-reviews/prep/movie_posters.csv', max_movies=1000)   # small number since model is local\n",
    "visual_docs = poster_loader.load()\n",
    "\n",
    "visual_retriever = VisualRetriever(model_name=\"ViT-B/32\", use_text_fusion=True, alpha=0.8)\n",
    "\n",
    "visual_retriever.add_documents(visual_docs)"
   ]
  },
  {
   "cell_type": "markdown",
   "id": "fcf730be-a76d-49a8-ba43-de0882f1f775",
   "metadata": {},
   "source": [
    "### Building textual chain"
   ]
  },
  {
   "cell_type": "markdown",
   "id": "3519dc841dec50cd",
   "metadata": {},
   "source": [
    "#### RAG + HyDE + Reranking"
   ]
  },
  {
   "cell_type": "code",
   "execution_count": 11,
   "id": "bfd5ff2937a219f4",
   "metadata": {},
   "outputs": [],
   "source": [
    "# Configuration\n",
    "PLOTS_PATH = \"/Users/saghar/Desktop/movie-rag/datasets/rotten-tomatoes-reviews/prep/movie_plots.csv\"\n",
    "REVIEWS_PATH = \"/Users/saghar/Desktop/movie-rag/datasets/rotten-tomatoes-reviews/prep/reviews_w_movies_full.csv\"\n",
    "MAX_MOVIES = 500  # Limit for faster demos"
   ]
  },
  {
   "cell_type": "code",
   "execution_count": 13,
   "id": "ea1098abc25a5043",
   "metadata": {
    "scrolled": true
   },
   "outputs": [
    {
     "name": "stdout",
     "output_type": "stream",
     "text": [
      "============================================================\n",
      "RAG (HyDE + Reranking)\n",
      "============================================================\n",
      "✓ MovieRAGChain initialized\n",
      "  Retriever type: custom + reranking + HyDE\n",
      "  LLM: gpt-4o-mini\n",
      "\n",
      "============================================================\n",
      "Building RAG Pipeline\n",
      "============================================================\n",
      "\n",
      "1. Loading documents...\n",
      "Limiting to 500 movies\n",
      "Loading plots from /Users/saghar/Desktop/movie-rag/datasets/rotten-tomatoes-reviews/prep/movie_plots.csv...\n",
      "Created 383 plot docs.\n",
      "  ✓ 383 plot documents\n",
      "Loading reviews from /Users/saghar/Desktop/movie-rag/datasets/rotten-tomatoes-reviews/prep/reviews_w_movies_full.csv...\n",
      "Created 500 review docs.\n",
      "  ✓ 500 review documents\n",
      "✓ Total: 883 reviews and plots documents\n",
      "\n",
      "2. Chunking with custom func...\n",
      "\n",
      "Chunking documents...\n",
      "Chunked 883 docs → 10114 chunks using 'sentence' strategy.\n",
      "\n",
      "Building base retriever...\n",
      "\n",
      "3. Building custom retriever...\n",
      "Loading embedding model: text-embedding-3-small (provider: openai)\n",
      "✓ Model loaded (dimension: 1536)\n",
      "✓ FaissDenseRetriever initialized (index_type=flat)\n",
      "Generating embeddings for 10114 documents...\n",
      "Embeddings generated\n",
      "Saving index...\n",
      "✓ Added 10114 documents to FAISS index\n",
      "  Index size: 10114\n",
      "\n",
      "4. Adding HyDE query transformation...\n",
      "✓ HyDERetriever initialized (model=gpt-4o-mini)\n",
      "\n",
      "5. Adding reranking: 20 → 5 docs...\n",
      "✓ LLMReranker initialized: gpt-4o-mini\n",
      "✓ Created LLM reranking retriever (top_k=5)\n",
      "\n",
      "5. Creating QA chain...\n",
      "\n",
      "============================================================\n",
      "✓ RAG Pipeline Built!\n",
      "============================================================\n"
     ]
    },
    {
     "data": {
      "text/plain": [
       "<src.langchain.chains.movie_rag.MovieRAGChain at 0x17920a090>"
      ]
     },
     "execution_count": 13,
     "metadata": {},
     "output_type": "execute_result"
    }
   ],
   "source": [
    "print(\"=\"*60)\n",
    "print(\"RAG (HyDE + Reranking)\")\n",
    "print(\"=\"*60)\n",
    "\n",
    "from src.langchain.prompts import ZERO_SHOT_QA_PROMPT\n",
    "\n",
    "\n",
    "# Build chain with all features\n",
    "full_chain = MovieRAGChain(\n",
    "    plots_path=PLOTS_PATH,\n",
    "    reviews_path=REVIEWS_PATH,\n",
    "    max_movies=MAX_MOVIES,\n",
    "    use_custom_retriever=True,\n",
    "    use_custom_chunk=True,\n",
    "    custom_prompt=ZERO_SHOT_QA_PROMPT,\n",
    "    k=5,\n",
    "    use_hyde=True,\n",
    "    hyde_model=\"gpt-4o-mini\",\n",
    "    use_reranking=True,\n",
    "    reranker_cfg={'type':'llm'},\n",
    "    initial_k=20, \n",
    ")\n",
    "\n",
    "full_chain.build()"
   ]
  },
  {
   "cell_type": "markdown",
   "id": "df85ac60-133a-4bc8-a60e-e7623a2848af",
   "metadata": {},
   "source": [
    "### Building end to end multi-modal retriever chain"
   ]
  },
  {
   "cell_type": "code",
   "execution_count": null,
   "id": "f3bb557a-4089-45a6-abbc-b76ec6e75121",
   "metadata": {},
   "outputs": [],
   "source": [
    "from src.langchain.chains.multimodal import MultiModalMovieRouter\n"
   ]
  },
  {
   "cell_type": "code",
   "execution_count": 36,
   "id": "fb3227f1-de65-4456-b652-89360729e5c2",
   "metadata": {},
   "outputs": [
    {
     "name": "stdout",
     "output_type": "stream",
     "text": [
      "Modality: text\n",
      "I recommend \"Closer.\" While it is primarily a drama, it features themes of love, betrayal, and complex relationships, which can create a thrilling atmosphere. The sharp dialogue and intense performances, especially by Natalie Portman, add to its engaging nature. However, if you're looking for something more traditional in romance with thriller elements, the information provided does not specify a perfect match.\n",
      "Modality: both\n",
      "Based on your request for bright, happy movies with colorful posters, here are some recommendations that align both textually and visually:\n",
      "\n",
      "1. **Moana (2016)**: Although not listed in the provided posters, \"Moana\" is a quintessential example of a bright and happy movie. It features vibrant animation and a joyful storyline centered around empowerment and adventure. The colorful visuals reflect its Polynesian roots, making it visually appealing.\n",
      "\n",
      "2. **The Emoji Movie (2017)**: This animated comedy is filled with bright colors and a cheerful atmosphere. The film's premise revolves around emojis coming to life in a digital world, which is inherently colorful and fun. The poster likely reflects this vibrancy, making it a great choice for your criteria.\n",
      "\n",
      "3. **Kung Fu Panda 3 (2016)**: Another animated film that fits the bill, \"Kung Fu Panda 3\" is known for its colorful animation and lighthearted humor. The film continues the adventures of Po and his friends, providing a joyful experience that is visually represented in its colorful poster.\n",
      "\n",
      "4. **The Oogieloves in The Big Balloon Adventure (2012)**: This kids' movie is designed to be bright and engaging for young audiences. Its colorful poster and cheerful themes make it a fitting choice for a happy movie experience.\n",
      "\n",
      "5. **Pitch Perfect (2012)**: While primarily a musical comedy, \"Pitch Perfect\" has a fun and upbeat vibe, with a colorful poster that reflects its lively spirit. The film's themes of friendship and music contribute to its overall happiness.\n",
      "\n",
      "Among these options, \"The Emoji Movie\" and \"Kung Fu Panda 3\" stand out as particularly vibrant and cheerful, both in their content and visual presentation. If you're looking for a bright and happy movie experience, these films would be excellent choices!\n",
      "Modality: both\n",
      "For sci-fi movies with vibrant neon visuals, the standout recommendation is **\"Blade Runner 2049\"**. This film is known for its stunning cinematography and striking use of neon colors, which create a visually immersive experience that aligns perfectly with the vibrant neon aesthetic. The film's futuristic setting is enhanced by its use of neon lights, making it a prime example of the genre.\n",
      "\n",
      "Another film that fits this description is **\"The Neon Demon\"**. While it is primarily categorized as a horror film, it features a strong visual style characterized by vibrant neon colors and striking imagery. The film's aesthetic is heavily influenced by the fashion industry, and its use of neon lighting contributes to a surreal and visually captivating experience.\n",
      "\n",
      "While **\"Akira\"** is not listed among the posters, it is also a significant mention for its breathtaking and kinetic visuals, which embody the vibrant neon style. However, from the provided list, **\"Blade Runner 2049\"** and **\"The Neon Demon\"** are the most relevant choices that align both textually and visually with the request for sci-fi movies featuring vibrant neon visuals. \n",
      "\n",
      "In summary:\n",
      "- **Blade Runner 2049**: Sci-fi, vibrant neon visuals, immersive cinematography.\n",
      "- **The Neon Demon**: While primarily horror, it features a strong neon aesthetic that aligns with the vibrant visuals sought. \n",
      "\n",
      "These films exemplify the vibrant neon visuals that are characteristic of the sci-fi genre.\n"
     ]
    }
   ],
   "source": [
    "router = MultiModalMovieRouter(full_chain, visual_retriever, classifier=\"llm\")\n",
    "\n",
    "# Queries\n",
    "result1 = router.query(\"Recommend me a romantic movie with thriller vibes\")\n",
    "\n",
    "result2 = router.query(\"bright haappy movies with colorful posters\")\n",
    "\n",
    "result3 = router.query(\"Sci-fi movies with vibrant neon visuals\")"
   ]
  },
  {
   "cell_type": "code",
   "execution_count": 37,
   "id": "44a2a46a-c08a-440f-a25b-468a182339f2",
   "metadata": {},
   "outputs": [
    {
     "data": {
      "text/plain": [
       "['Possession', 'Closer', 'Foxcatcher', 'Foxcatcher', 'Foxcatcher']"
      ]
     },
     "execution_count": 37,
     "metadata": {},
     "output_type": "execute_result"
    }
   ],
   "source": [
    "[doc['metadata']['movie_title'] for doc in result1['sources']]"
   ]
  },
  {
   "cell_type": "code",
   "execution_count": 38,
   "id": "13e50828-2699-44ab-adba-53063da8f4fe",
   "metadata": {},
   "outputs": [
    {
     "name": "stdout",
     "output_type": "stream",
     "text": [
      "['Moana', 'Moana', 'Moana', 'Moana', 'Moana']\n",
      "['Bull', 'The Emoji Movie', 'Kung Fu Panda 3', \"I'm So Excited!\", 'Pitch Perfect', 'The Oogieloves in The Big Balloon Adventure', 'Fast & Furious 6', 'The Professor', 'Ride Along 2', 'First Man']\n"
     ]
    }
   ],
   "source": [
    "print([doc['metadata']['movie_title'] for doc in result2['text_sources']])\n",
    "print([doc['title'] for doc in result2['visual_sources']])"
   ]
  },
  {
   "cell_type": "code",
   "execution_count": 39,
   "id": "3cb06d51-1894-4980-8693-dff4d372061c",
   "metadata": {},
   "outputs": [
    {
     "name": "stdout",
     "output_type": "stream",
     "text": [
      "['Akira', 'Transcendence', 'Transcendence', 'Transcendence', 'Alien']\n",
      "['First Man', \"I'm So Excited!\", 'Demon', 'Zero Days', 'Species', 'Blade Runner 2049', 'It Came from Outer Space', \"Daniel Isn't Real\", 'The Neon Demon', 'Bull']\n"
     ]
    }
   ],
   "source": [
    "print([doc['metadata']['movie_title'] for doc in result3['text_sources']])\n",
    "print([doc['title'] for doc in result3['visual_sources']])"
   ]
  }
 ],
 "metadata": {
  "kernelspec": {
   "display_name": "Python 3 (ipykernel)",
   "language": "python",
   "name": "python3"
  },
  "language_info": {
   "codemirror_mode": {
    "name": "ipython",
    "version": 3
   },
   "file_extension": ".py",
   "mimetype": "text/x-python",
   "name": "python",
   "nbconvert_exporter": "python",
   "pygments_lexer": "ipython3",
   "version": "3.12.11"
  }
 },
 "nbformat": 4,
 "nbformat_minor": 5
}
