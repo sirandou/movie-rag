{
 "cells": [
  {
   "cell_type": "code",
   "execution_count": 1,
   "id": "6544cb18-e76d-4e25-9cf8-993dea4a3a89",
   "metadata": {},
   "outputs": [],
   "source": [
    "from src.langchain.chains.movie_rag import MovieRAGChain\n",
    "from src.langchain.prompts import ZERO_SHOT_QA_PROMPT"
   ]
  },
  {
   "cell_type": "code",
   "execution_count": 2,
   "id": "bacd0f37-095c-4b72-8217-4b34b82bba18",
   "metadata": {},
   "outputs": [
    {
     "name": "stdout",
     "output_type": "stream",
     "text": [
      "============================================================\n",
      "\n",
      "LangChain with custom chunk, retrieve, prompt\n",
      "\n",
      "with llm reranking\n",
      "\n",
      "============================================================\n",
      "✓ MovieRAGChain initialized\n",
      "  Retriever type: custom + reranking\n",
      "  LLM: gpt-4o-mini\n",
      "\n",
      "============================================================\n",
      "Building RAG Pipeline\n",
      "============================================================\n",
      "\n",
      "1. Loading documents...\n",
      "Limiting to 500 movies\n",
      "Loading plots from /Users/saghar/Desktop/movie-rag/datasets/rotten-tomatoes-reviews/prep/movie_plots.csv...\n",
      "Created 383 plot docs.\n",
      "  ✓ 383 plot documents\n",
      "Loading reviews from /Users/saghar/Desktop/movie-rag/datasets/rotten-tomatoes-reviews/prep/reviews_w_movies_full.csv...\n",
      "Created 500 review docs.\n",
      "  ✓ 500 review documents\n",
      "✓ Total: 883 reviews and plots documents\n",
      "\n",
      "2. Chunking with custom func...\n",
      "\n",
      "Chunking documents...\n",
      "Chunked 883 docs → 10114 chunks using 'sentence' strategy.\n",
      "\n",
      "3. Building custom retriever...\n",
      "Loading embedding model: text-embedding-3-small (provider: openai)\n",
      "✓ Model loaded (dimension: 1536)\n",
      "✓ FaissDenseRetriever initialized (index_type=flat)\n",
      "Generating embeddings for 10114 documents...\n",
      "Embeddings generated\n",
      "Saving index...\n",
      "✓ Added 10114 documents to FAISS index\n",
      "  Index size: 10114\n",
      "✓ LLMReranker initialized: gpt-4o-mini\n",
      "✓ Created LLM reranking retriever (top_k=5)\n",
      "  ✓ Reranking enabled: 20 → 5 docs\n",
      "\n",
      "4. Creating QA chain...\n",
      "\n",
      "============================================================\n",
      "✓ RAG Pipeline Built!\n",
      "============================================================\n"
     ]
    },
    {
     "data": {
      "text/plain": [
       "<src.langchain.chains.MovieRAGChain at 0x15a6d0620>"
      ]
     },
     "execution_count": 2,
     "metadata": {},
     "output_type": "execute_result"
    }
   ],
   "source": [
    "print(\"=\"*60)\n",
    "print(\"\\nLangChain with custom chunk, retrieve, prompt\\n\")\n",
    "print(\"with llm reranking\\n\")\n",
    "print(\"=\"*60)\n",
    "\n",
    "chain_rerank_llm = MovieRAGChain(\n",
    "    plots_path=\"/Users/saghar/Desktop/movie-rag/datasets/rotten-tomatoes-reviews/prep/movie_plots.csv\",\n",
    "    reviews_path=\"/Users/saghar/Desktop/movie-rag/datasets/rotten-tomatoes-reviews/prep/reviews_w_movies_full.csv\",\n",
    "    max_movies=500,\n",
    "    use_custom_retriever=True,\n",
    "    use_custom_chunk=True,\n",
    "    custom_prompt=ZERO_SHOT_QA_PROMPT,\n",
    "    k=5,\n",
    "    use_reranking=True,\n",
    "    initial_k=20,\n",
    "    reranker_cfg={'type':'llm'},\n",
    ")\n",
    "\n",
    "chain_rerank_llm.build()"
   ]
  },
  {
   "cell_type": "code",
   "execution_count": 3,
   "id": "67bb2969-7e22-4762-97fb-50654054f011",
   "metadata": {},
   "outputs": [
    {
     "name": "stdout",
     "output_type": "stream",
     "text": [
      "============================================================\n",
      "\n",
      "LangChain with custom chunk, retrieve, prompt\n",
      "\n",
      "No reranking\n",
      "\n",
      "============================================================\n",
      "✓ MovieRAGChain initialized\n",
      "  Retriever type: custom\n",
      "  LLM: gpt-4o-mini\n",
      "\n",
      "============================================================\n",
      "Building RAG Pipeline\n",
      "============================================================\n",
      "\n",
      "1. Loading documents...\n",
      "Limiting to 500 movies\n",
      "Loading plots from /Users/saghar/Desktop/movie-rag/datasets/rotten-tomatoes-reviews/prep/movie_plots.csv...\n",
      "Created 383 plot docs.\n",
      "  ✓ 383 plot documents\n",
      "Loading reviews from /Users/saghar/Desktop/movie-rag/datasets/rotten-tomatoes-reviews/prep/reviews_w_movies_full.csv...\n",
      "Created 500 review docs.\n",
      "  ✓ 500 review documents\n",
      "✓ Total: 883 reviews and plots documents\n",
      "\n",
      "2. Chunking with custom func...\n",
      "\n",
      "Chunking documents...\n",
      "Chunked 883 docs → 10114 chunks using 'sentence' strategy.\n",
      "\n",
      "3. Building custom retriever...\n",
      "Loading embedding model: text-embedding-3-small (provider: openai)\n",
      "✓ Model loaded (dimension: 1536)\n",
      "✓ FaissDenseRetriever initialized (index_type=flat)\n",
      "Generating embeddings for 10114 documents...\n",
      "Embeddings generated\n",
      "Saving index...\n",
      "✓ Added 10114 documents to FAISS index\n",
      "  Index size: 10114\n",
      "\n",
      "4. Creating QA chain...\n",
      "\n",
      "============================================================\n",
      "✓ RAG Pipeline Built!\n",
      "============================================================\n"
     ]
    },
    {
     "data": {
      "text/plain": [
       "<src.langchain.chains.MovieRAGChain at 0x10d8e0170>"
      ]
     },
     "execution_count": 3,
     "metadata": {},
     "output_type": "execute_result"
    }
   ],
   "source": [
    "print(\"=\"*60)\n",
    "print(\"\\nLangChain with custom chunk, retrieve, prompt\\n\")\n",
    "print(\"No reranking\\n\")\n",
    "print(\"=\"*60)\n",
    "\n",
    "chain_no_rerank = MovieRAGChain(\n",
    "    plots_path=\"/Users/saghar/Desktop/movie-rag/datasets/rotten-tomatoes-reviews/prep/movie_plots.csv\",\n",
    "    reviews_path=\"/Users/saghar/Desktop/movie-rag/datasets/rotten-tomatoes-reviews/prep/reviews_w_movies_full.csv\",\n",
    "    max_movies=500,\n",
    "    use_custom_retriever=True,\n",
    "    use_custom_chunk=True,\n",
    "    custom_prompt=ZERO_SHOT_QA_PROMPT,\n",
    "    k=5,\n",
    "    use_reranking=False,\n",
    ")\n",
    "\n",
    "chain_no_rerank.build()"
   ]
  },
  {
   "cell_type": "code",
   "execution_count": 4,
   "id": "01976343-d883-4a32-b976-5977c26ca023",
   "metadata": {},
   "outputs": [
    {
     "name": "stdout",
     "output_type": "stream",
     "text": [
      "============================================================\n",
      "\n",
      "LangChain with custom chunk, retrieve, prompt\n",
      "\n",
      "with cross encoding reranking\n",
      "\n",
      "============================================================\n",
      "✓ MovieRAGChain initialized\n",
      "  Retriever type: custom + reranking\n",
      "  LLM: gpt-4o-mini\n",
      "\n",
      "============================================================\n",
      "Building RAG Pipeline\n",
      "============================================================\n",
      "\n",
      "1. Loading documents...\n",
      "Limiting to 500 movies\n",
      "Loading plots from /Users/saghar/Desktop/movie-rag/datasets/rotten-tomatoes-reviews/prep/movie_plots.csv...\n",
      "Created 383 plot docs.\n",
      "  ✓ 383 plot documents\n",
      "Loading reviews from /Users/saghar/Desktop/movie-rag/datasets/rotten-tomatoes-reviews/prep/reviews_w_movies_full.csv...\n",
      "Created 500 review docs.\n",
      "  ✓ 500 review documents\n",
      "✓ Total: 883 reviews and plots documents\n",
      "\n",
      "2. Chunking with custom func...\n",
      "\n",
      "Chunking documents...\n",
      "Chunked 883 docs → 10114 chunks using 'sentence' strategy.\n",
      "\n",
      "3. Building custom retriever...\n",
      "Loading embedding model: text-embedding-3-small (provider: openai)\n",
      "✓ Model loaded (dimension: 1536)\n",
      "✓ FaissDenseRetriever initialized (index_type=flat)\n",
      "Generating embeddings for 10114 documents...\n",
      "Embeddings generated\n",
      "Saving index...\n",
      "✓ Added 10114 documents to FAISS index\n",
      "  Index size: 10114\n",
      "✓ CrossEncoderReranker loaded: cross-encoder/ms-marco-MiniLM-L-6-v2\n",
      "✓ Created cross-encoder reranking retriever (top_k=5)\n",
      "  ✓ Reranking enabled: 20 → 5 docs\n",
      "\n",
      "4. Creating QA chain...\n",
      "\n",
      "============================================================\n",
      "✓ RAG Pipeline Built!\n",
      "============================================================\n"
     ]
    },
    {
     "data": {
      "text/plain": [
       "<src.langchain.chains.MovieRAGChain at 0x11f747440>"
      ]
     },
     "execution_count": 4,
     "metadata": {},
     "output_type": "execute_result"
    }
   ],
   "source": [
    "print(\"=\"*60)\n",
    "print(\"\\nLangChain with custom chunk, retrieve, prompt\\n\")\n",
    "print(\"with cross encoding reranking\\n\")\n",
    "print(\"=\"*60)\n",
    "\n",
    "chain_rerank_cross = MovieRAGChain(\n",
    "    plots_path=\"/Users/saghar/Desktop/movie-rag/datasets/rotten-tomatoes-reviews/prep/movie_plots.csv\",\n",
    "    reviews_path=\"/Users/saghar/Desktop/movie-rag/datasets/rotten-tomatoes-reviews/prep/reviews_w_movies_full.csv\",\n",
    "    max_movies=500,\n",
    "    use_custom_retriever=True,\n",
    "    use_custom_chunk=True,\n",
    "    custom_prompt=ZERO_SHOT_QA_PROMPT,\n",
    "    k=5,\n",
    "    use_reranking=True,\n",
    "    initial_k=20,\n",
    "    reranker_cfg={'type':'cross-encoder'},\n",
    ")\n",
    "\n",
    "chain_rerank_cross.build()"
   ]
  },
  {
   "cell_type": "code",
   "execution_count": 22,
   "id": "fec2caac-fedf-4dcb-90ee-c07af2508bb4",
   "metadata": {},
   "outputs": [],
   "source": [
    "import time\n",
    "def run(chain, query):\n",
    "    start = time.time()\n",
    "    result = chain.query(query)\n",
    "    time_t = time.time() - start\n",
    "    \n",
    "    print(f\"\\nQuery: {query}\")\n",
    "    print(f\"\\nTime: {time_t:.2f}s\")\n",
    "    print(f\"\\nAnswer: {result['answer']}\")\n",
    "    print(f\"\\nTop 5 Retrieved:\")\n",
    "    for src in result['sources'][:5]:\n",
    "        score = src['metadata'].get('score', 'N/A')\n",
    "        print(f\"\\n  {src['metadata']['movie_title']} - {src['metadata']['release_year']}(initial score={score})\")\n",
    "        print(f\"\\n content: {src['content'][:150]}...\")\n",
    "        if 'rerank_score' in src['metadata']:\n",
    "            print(f\"\\n  rerank score: {src['metadata']['rerank_score']:.3f}\")"
   ]
  },
  {
   "cell_type": "code",
   "execution_count": 23,
   "id": "69e64738-b755-456c-aac0-eb82a399a5e6",
   "metadata": {},
   "outputs": [],
   "source": [
    "query = \"movies similar to inception with complex plot\""
   ]
  },
  {
   "cell_type": "code",
   "execution_count": 24,
   "id": "875ed63a-bc36-491c-9c7e-241a8398346a",
   "metadata": {},
   "outputs": [
    {
     "name": "stdout",
     "output_type": "stream",
     "text": [
      "\n",
      "Query: movies similar to inception with complex plot\n",
      "\n",
      "Time: 3.87s\n",
      "\n",
      "Answer: Based on the provided information, \"Transcendence\" and \"Limitless\" are two movies that feature complex plots and explore themes related to technology and intelligence, similar to \"Inception.\" \n",
      "\n",
      "- **Transcendence** deals with big ideas about artificial intelligence and the moral questions surrounding it, although it has been criticized for lacking substance beneath its ambitious surface.\n",
      "- **Limitless** follows a struggling writer who takes a drug that enhances his mental capacity, leading to a thrilling but morally questionable journey.\n",
      "\n",
      "Both films, like \"Inception,\" delve into intricate concepts, though they may not achieve the same level of execution.\n",
      "\n",
      "Top 5 Retrieved:\n",
      "\n",
      "  Transcendence - 2014(initial score=-1.0702660083770752)\n",
      "\n",
      " content: Review: In his first film as director, acclaimed cinematographer Wally Pfister (The Dark Knight Rises, Inception) has made a movie that predictably lo...\n",
      "\n",
      "  Limitless - 2011(initial score=-1.075819492340088)\n",
      "\n",
      " content: Review: [An] erratic but often wickedly sly thriller.\n",
      "Review: Limitless is fairly smart, and smart films are few and far between.\n",
      "Review: For a plot a...\n",
      "\n",
      "  Now You See Me 2 - 2016(initial score=-1.0778117179870605)\n",
      "\n",
      " content: Review: A busy but perfunctory experience, complete with some blatant product placement for a Macau casino. The idea that these movies speak for the i...\n",
      "\n",
      "  Transcendence - 2014(initial score=-1.0795228481292725)\n",
      "\n",
      " content: Review: Present-tense future shock that mashes up an unholy hybrid of movies past and clichés everlasting, notably \"The Lawnmower Man\" and \"An Inconve...\n",
      "\n",
      "  Limitless - 2011(initial score=-1.087327480316162)\n",
      "\n",
      " content: Review: Some of its conceits may not hold up under intense scrutiny, but, generally speaking, it's a good time at the movies.\n",
      "Review: Alternate-realit...\n"
     ]
    }
   ],
   "source": [
    "run(chain_no_rerank, query)"
   ]
  },
  {
   "cell_type": "code",
   "execution_count": 25,
   "id": "0a0c6f79-e764-41dd-8be7-68559c111924",
   "metadata": {},
   "outputs": [
    {
     "name": "stdout",
     "output_type": "stream",
     "text": [
      "\n",
      "Query: movies similar to inception with complex plot\n",
      "\n",
      "Time: 4.51s\n",
      "\n",
      "Answer: Movies similar to *Inception* with complex plots include *Limitless*, which features an interesting premise and a charismatic performance by Bradley Cooper, though it doesn't fully tap into its potential. Another film to consider is *Transcendence*, which attempts to explore deep moral and scientific questions but is criticized for its execution and lack of substance. Both films share elements of sci-fi and intricate storytelling, though they may not reach the same level of acclaim as *Inception*.\n",
      "\n",
      "Top 5 Retrieved:\n",
      "\n",
      "  Transcendence - 2014(initial score=-1.0702660083770752)\n",
      "\n",
      " content: Review: In his first film as director, acclaimed cinematographer Wally Pfister (The Dark Knight Rises, Inception) has made a movie that predictably lo...\n",
      "\n",
      "  rerank score: -1.768\n",
      "\n",
      "  Transcendence - 2014(initial score=-1.1166374683380127)\n",
      "\n",
      " content: Review: Transcendence is a movie that's of two minds. It's well-grounded, but also over the top. It's a man-vs.-machine epic and also an intimate dram...\n",
      "\n",
      "  rerank score: -2.916\n",
      "\n",
      "  Limitless - 2011(initial score=-1.1136553287506104)\n",
      "\n",
      " content: Review: Director Neil Burger flaunts flair, with bursts of stylised Escher-esque camerawork (dig those speeding super-zooms), saturated colour and a e...\n",
      "\n",
      "  rerank score: -2.983\n",
      "\n",
      "  Transcendence - 2014(initial score=-1.0880844593048096)\n",
      "\n",
      " content: Review: has all the audacity of Christopher Nolan's Inception, without the credibility ... ends up as a jumble of style over substance, leaving us fee...\n",
      "\n",
      "  rerank score: -4.329\n",
      "\n",
      "  Now You See Me 2 - 2016(initial score=-1.0778117179870605)\n",
      "\n",
      " content: Review: A busy but perfunctory experience, complete with some blatant product placement for a Macau casino. The idea that these movies speak for the i...\n",
      "\n",
      "  rerank score: -5.492\n"
     ]
    }
   ],
   "source": [
    "run(chain_rerank_cross, query)"
   ]
  },
  {
   "cell_type": "code",
   "execution_count": 26,
   "id": "68db21bd-20a7-4d7f-8115-d6eb33c0415f",
   "metadata": {},
   "outputs": [
    {
     "name": "stdout",
     "output_type": "stream",
     "text": [
      "\n",
      "Query: movies similar to inception with complex plot\n",
      "\n",
      "Time: 11.99s\n",
      "\n",
      "Answer: A movie similar to *Inception* with a complex plot is *Transcendence* (2014). It explores themes of artificial intelligence and the moral implications of technology, featuring a narrative that intertwines personal drama with sci-fi elements. However, reviews suggest that while it aims for a brainy science-fiction adventure, its execution may not reach the heights of *Inception*. Another option is *Limitless*, which involves a struggling writer who takes a drug that enhances his intelligence, leading to a thrilling yet complex journey.\n",
      "\n",
      "Top 5 Retrieved:\n",
      "\n",
      "  Transcendence - 2014(initial score=-1.1166374683380127)\n",
      "\n",
      " content: Review: Transcendence is a movie that's of two minds. It's well-grounded, but also over the top. It's a man-vs.-machine epic and also an intimate dram...\n",
      "\n",
      "  rerank score: 0.700\n",
      "\n",
      "  Transcendence - 2014(initial score=-1.0956841707229614)\n",
      "\n",
      " content: Movie title: Transcendence\n",
      "Release year: 2014\n",
      "Directors: Wally Pfister\n",
      "Genres: Drama, Science Fiction & Fantasy\n",
      "Content rating: PG-13\n",
      "Runtime: 119.0\n",
      "T...\n",
      "\n",
      "  rerank score: 0.600\n",
      "\n",
      "  Transcendence - 2014(initial score=-1.120373010635376)\n",
      "\n",
      " content: Movie title: Transcendence\n",
      "Release year: 2014\n",
      "Directors: Wally Pfister\n",
      "Genres: Drama, Science Fiction & Fantasy\n",
      "Content rating: PG-13\n",
      "Runtime: 119.0\n",
      "T...\n",
      "\n",
      "  rerank score: 0.600\n",
      "\n",
      "  Limitless - 2011(initial score=-1.075819492340088)\n",
      "\n",
      " content: Review: [An] erratic but often wickedly sly thriller.\n",
      "Review: Limitless is fairly smart, and smart films are few and far between.\n",
      "Review: For a plot a...\n",
      "\n",
      "  rerank score: 0.400\n",
      "\n",
      "  Limitless - 2011(initial score=-1.0889394283294678)\n",
      "\n",
      " content: Review: Lots to think about. And I think it's a pretty good movie.\n",
      "Review: The thriller structure of 'Limitless' and its turns that will mark out the ...\n",
      "\n",
      "  rerank score: 0.400\n"
     ]
    }
   ],
   "source": [
    "run(chain_rerank_llm, query)"
   ]
  },
  {
   "cell_type": "code",
   "execution_count": 36,
   "id": "6507474d-78b1-4d96-a98d-762be75824b0",
   "metadata": {},
   "outputs": [],
   "source": [
    "query = \"I wanna watch a teen romance story where they deal with poverty. If the movie is popular it's even better. I don't want it to be sad\""
   ]
  },
  {
   "cell_type": "code",
   "execution_count": 37,
   "id": "2df37fb0-d5ce-4c32-a3df-e99c9ccd0652",
   "metadata": {},
   "outputs": [
    {
     "name": "stdout",
     "output_type": "stream",
     "text": [
      "\n",
      "Query: I wanna watch a teen romance story where they deal with poverty. If the movie is popular it's even better. I don't want it to be sad\n",
      "\n",
      "Time: 2.18s\n",
      "\n",
      "Answer: You might enjoy \"Slums of Beverly Hills\" (1998). It features a teen protagonist, Vivian, who navigates her adolescence while dealing with her family's financial struggles in Beverly Hills. The film has a comedic tone and a charming cast, making it a light-hearted watch despite its themes of poverty. It has received positive reviews, with an 81% Tomatometer rating, indicating its popularity and appeal.\n",
      "\n",
      "Top 5 Retrieved:\n",
      "\n",
      "  Before I Fall - 2017(initial score=-1.1250892877578735)\n",
      "\n",
      " content: Review: It's what would happen if Nicholas Sparks rewrote \"Groundhog Day\" as a teen-angst melodrama.\n",
      "Review: Former high-schoolers might be a bit bore...\n",
      "\n",
      "  Prom - 2011(initial score=-1.1345973014831543)\n",
      "\n",
      " content: Review: Wholesome story, colorful characters and sweet romantic elements, make for a decent watch.\n",
      "Review: A watchable and satisfying family film.\n",
      "Rev...\n",
      "\n",
      "  Prom - 2011(initial score=-1.142608642578125)\n",
      "\n",
      " content: Review: Only moderately exasperating.\n",
      "Review: Romance flowering or being dashed, a school where no one appears to be doing any coherent work and a Pro...\n",
      "\n",
      "  Slums of Beverly Hills - 1998(initial score=-1.150242567062378)\n",
      "\n",
      " content: Movie title: Slums of Beverly Hills\n",
      "Release year: 1998\n",
      "Directors: Tamara Jenkins\n",
      "Genres: Art House & International, Comedy\n",
      "Content rating: R\n",
      "Runtime: ...\n",
      "\n",
      "  Chalet Girl - 2011(initial score=-1.1505838632583618)\n",
      "\n",
      " content: Review: A cheap and cheerful chick-flick that pads out its thin Cinderella-on-ice storyline with a string of frothy montages. Sure, it's soppy, but th...\n"
     ]
    }
   ],
   "source": [
    "run(chain_no_rerank, query)"
   ]
  },
  {
   "cell_type": "code",
   "execution_count": 38,
   "id": "6185d861-8f93-431f-948d-fecdfd72d055",
   "metadata": {},
   "outputs": [
    {
     "name": "stdout",
     "output_type": "stream",
     "text": [
      "\n",
      "Query: I wanna watch a teen romance story where they deal with poverty. If the movie is popular it's even better. I don't want it to be sad\n",
      "\n",
      "Time: 12.38s\n",
      "\n",
      "Answer: You might enjoy \"Slums of Beverly Hills\" (1998). It's a teen comedy that explores the life of Vivian and her family, who are struggling financially while trying to fit in at Beverly Hills. The film features themes of young love and family dynamics, all wrapped in a humorous and light-hearted tone. With an IMDb rating of 6.7 and a Tomatometer rating of 81%, it has received positive reviews and is considered a decent watch. It balances the challenges of poverty with a feel-good narrative, making it a suitable choice for your criteria.\n",
      "\n",
      "Top 5 Retrieved:\n",
      "\n",
      "  Slums of Beverly Hills - 1998(initial score=-1.1503474712371826)\n",
      "\n",
      " content: Movie title: Slums of Beverly Hills\n",
      "Release year: 1998\n",
      "Directors: Tamara Jenkins\n",
      "Genres: Art House & International, Comedy\n",
      "Content rating: R\n",
      "Runtime: ...\n",
      "\n",
      "  rerank score: 0.600\n",
      "\n",
      "  Little Manhattan - 2005(initial score=-1.21079683303833)\n",
      "\n",
      " content: Review: Delightful look at two kids' first romance.\n",
      "Review: Reliving the roller-coaster ride of young love from the point of view of these phenomenal ...\n",
      "\n",
      "  rerank score: 0.500\n",
      "\n",
      "  Prom - 2011(initial score=-1.1345645189285278)\n",
      "\n",
      " content: Review: Wholesome story, colorful characters and sweet romantic elements, make for a decent watch.\n",
      "Review: A watchable and satisfying family film.\n",
      "Rev...\n",
      "\n",
      "  rerank score: 0.400\n",
      "\n",
      "  Prom - 2011(initial score=-1.1427087783813477)\n",
      "\n",
      " content: Review: Only moderately exasperating.\n",
      "Review: Romance flowering or being dashed, a school where no one appears to be doing any coherent work and a Pro...\n",
      "\n",
      "  rerank score: 0.400\n",
      "\n",
      "  Chalet Girl - 2011(initial score=-1.1506201028823853)\n",
      "\n",
      " content: Review: A cheap and cheerful chick-flick that pads out its thin Cinderella-on-ice storyline with a string of frothy montages. Sure, it's soppy, but th...\n",
      "\n",
      "  rerank score: 0.400\n"
     ]
    }
   ],
   "source": [
    "run(chain_rerank_llm, query)"
   ]
  },
  {
   "cell_type": "markdown",
   "id": "4e10c0cd-4e0b-4349-849d-1808314caf39",
   "metadata": {},
   "source": [
    "#### Oh well. It probably works better if the movie pool is larger or the task is harder :D"
   ]
  },
  {
   "cell_type": "code",
   "execution_count": null,
   "id": "f8425e5f-bc6d-45c7-8ef5-027715c91713",
   "metadata": {},
   "outputs": [],
   "source": []
  }
 ],
 "metadata": {
  "kernelspec": {
   "display_name": "Python 3 (ipykernel)",
   "language": "python",
   "name": "python3"
  },
  "language_info": {
   "codemirror_mode": {
    "name": "ipython",
    "version": 3
   },
   "file_extension": ".py",
   "mimetype": "text/x-python",
   "name": "python",
   "nbconvert_exporter": "python",
   "pygments_lexer": "ipython3",
   "version": "3.12.11"
  }
 },
 "nbformat": 4,
 "nbformat_minor": 5
}
